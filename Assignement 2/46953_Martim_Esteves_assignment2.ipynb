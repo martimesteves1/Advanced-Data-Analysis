{
 "cells": [
  {
   "cell_type": "markdown",
   "metadata": {},
   "source": [
    "# Martim Esteves, 46953"
   ]
  },
  {
   "cell_type": "markdown",
   "metadata": {},
   "source": [
    "# Advanced Data Analysis - Assignment 2\n",
    "\n",
    "This notebook contains the **Assignment 2** of the Advanced Data Analysis course.\n",
    "\n",
    "The topic of the assignment consists in applying regression on National Health and Nutrition Examination data.\n",
    "\n",
    "### DEADLINE: 13-October-2023\n",
    "\n",
    "The assignment is **individual**. You should submit your resolution on Moodle by the deadline. While doing this assignment, you can use or adapt any code from the lectures if you want. \n",
    "\n",
    "Students have three grace days that they can use for all assignments and group project, which allows them to deliver the projects late. Use these grace days carefully.\n",
    "\n",
    "[//]: # (We will be using latex for fomulas)\n",
    "\n",
    "<script type=\"text/javascript\"\n",
    "        src=\"https://cdnjs.cloudflare.com/ajax/libs/mathjax/2.7.0/MathJax.js?config=TeX-AMS_CHTML\"></script>\n",
    "        \n",
    "### Notebook Instructions\n",
    "* You only need to deliver this notebook file (notice that, a notebook file extension is filename.ipynb) - Data files must not be submitted\n",
    "* You don't need to create additional cells. Try to use the ones that are already available\n",
    "* The notebook should be delivered with the outputs already available\n"
   ]
  },
  {
   "cell_type": "markdown",
   "metadata": {},
   "source": [
    "# Dataset"
   ]
  },
  {
   "cell_type": "markdown",
   "metadata": {},
   "source": [
    "The file children.csv contains a file with two columns. The first column is the age of each child in\n",
    "months, and the second the weight in Kg. The data is from the National Health and Nutrition Examination\n",
    "Survey of 2017-2018 and represents a sample of children up to 24 months old.\n",
    "\n",
    "The following code loads the children.csv file "
   ]
  },
  {
   "cell_type": "code",
   "execution_count": 1,
   "metadata": {},
   "outputs": [
    {
     "data": {
      "text/html": [
       "<div>\n",
       "<style scoped>\n",
       "    .dataframe tbody tr th:only-of-type {\n",
       "        vertical-align: middle;\n",
       "    }\n",
       "\n",
       "    .dataframe tbody tr th {\n",
       "        vertical-align: top;\n",
       "    }\n",
       "\n",
       "    .dataframe thead th {\n",
       "        text-align: right;\n",
       "    }\n",
       "</style>\n",
       "<table border=\"1\" class=\"dataframe\">\n",
       "  <thead>\n",
       "    <tr style=\"text-align: right;\">\n",
       "      <th></th>\n",
       "      <th>age</th>\n",
       "      <th>weight</th>\n",
       "    </tr>\n",
       "  </thead>\n",
       "  <tbody>\n",
       "    <tr>\n",
       "      <th>0</th>\n",
       "      <td>11.0</td>\n",
       "      <td>10.2</td>\n",
       "    </tr>\n",
       "    <tr>\n",
       "      <th>1</th>\n",
       "      <td>21.0</td>\n",
       "      <td>10.6</td>\n",
       "    </tr>\n",
       "    <tr>\n",
       "      <th>2</th>\n",
       "      <td>7.0</td>\n",
       "      <td>9.3</td>\n",
       "    </tr>\n",
       "    <tr>\n",
       "      <th>3</th>\n",
       "      <td>19.0</td>\n",
       "      <td>8.3</td>\n",
       "    </tr>\n",
       "    <tr>\n",
       "      <th>4</th>\n",
       "      <td>16.0</td>\n",
       "      <td>9.2</td>\n",
       "    </tr>\n",
       "  </tbody>\n",
       "</table>\n",
       "</div>"
      ],
      "text/plain": [
       "    age  weight\n",
       "0  11.0    10.2\n",
       "1  21.0    10.6\n",
       "2   7.0     9.3\n",
       "3  19.0     8.3\n",
       "4  16.0     9.2"
      ]
     },
     "execution_count": 1,
     "metadata": {},
     "output_type": "execute_result"
    }
   ],
   "source": [
    "# This code cell does not need to be changed\n",
    "import os\n",
    "import pandas as pd\n",
    "import matplotlib.pyplot as plt\n",
    "from sklearn import linear_model\n",
    "from sklearn.preprocessing import PolynomialFeatures\n",
    "from sklearn.model_selection import train_test_split\n",
    "from sklearn.metrics import mean_squared_error\n",
    "from sklearn.model_selection import cross_val_score\n",
    "\n",
    "dataFileName = os.path.join( \"assignment2\", \"children.csv\")\n",
    "dataDF = pd.read_csv(dataFileName)\n",
    "dataDF.head()"
   ]
  },
  {
   "cell_type": "markdown",
   "metadata": {},
   "source": [
    "# Assignment"
   ]
  },
  {
   "cell_type": "markdown",
   "metadata": {},
   "source": [
    "In this assignment, we aim to predict the weight of a children until 24 monthts old based on child age. "
   ]
  },
  {
   "cell_type": "markdown",
   "metadata": {},
   "source": [
    "## Question 1\n",
    "\n",
    "In this question, we aim to create a linear regression model do predict the weight of a children based on his/her age. \n",
    "\n",
    "### **1.a)** Let's start by plotting the data in a scatter plot.  Is there any correlation between the weight and age of children?. In your opinion, is it reasonable to create a linear regression model to predict the weight of a children? (3 points out of 20). \n"
   ]
  },
  {
   "cell_type": "code",
   "execution_count": 2,
   "metadata": {},
   "outputs": [
    {
     "name": "stdout",
     "output_type": "stream",
     "text": [
      "0.8796145418327413\n"
     ]
    },
    {
     "data": {
      "image/png": "[encoded data removed]",
      "text/plain": [
       "<Figure size 640x480 with 1 Axes>"
      ]
     },
     "metadata": {},
     "output_type": "display_data"
    }
   ],
   "source": [
    "plt.scatter(dataDF['age'], dataDF['weight'])\n",
    "print(dataDF.corr().iloc[0,1])"
   ]
  },
  {
   "cell_type": "markdown",
   "metadata": {},
   "source": [
    "### Comments:\n",
    "With a linear model, we are trying to predict the values of a variable based on the values of another variable, by fitting a linear equation to the training data. So, we assume that there is a linear relationship between the variables. Of course there are cases where this assumption is not reasonable, but a strong correlation between the two variables is a good indicator that the linear model will be a good fit, and therefore make good predictions. \n",
    "In this case, we got a correlation of approximately 0.88 between the age and weight of the children, which indicates that it is reasonable to use linear regression for our predictive model."
   ]
  },
  {
   "cell_type": "markdown",
   "metadata": {},
   "source": [
    "### **1.b)** Build a linear regression model and estimate the true error (5 out of 20) "
   ]
  },
  {
   "cell_type": "code",
   "execution_count": 3,
   "metadata": {},
   "outputs": [
    {
     "name": "stdout",
     "output_type": "stream",
     "text": [
      "-1.636245443944943\n"
     ]
    }
   ],
   "source": [
    "seed = 3\n",
    "x = dataDF[['age']]\n",
    "y = dataDF[['weight']]\n",
    "\n",
    "# Define a train and test set\n",
    "train_set, test_set = train_test_split(dataDF, test_size=0.2, random_state=seed)\n",
    "\n",
    "train_x = train_set[['age']]\n",
    "train_y = train_set[['weight']]\n",
    "test_x = test_set[['age']]\n",
    "test_y = test_set[['weight']]\n",
    "\n",
    "# Build the linear regression model using the training data\n",
    "model = linear_model.LinearRegression()\n",
    "model.fit(train_x, train_y)\n",
    "\n",
    "# Estimate true error, expressed as the negative mean squared error\n",
    "estimator = linear_model.LinearRegression()\n",
    "scores = cross_val_score(estimator, x, y, scoring='neg_mean_squared_error', cv=10)\n",
    "print(scores.mean())"
   ]
  },
  {
   "cell_type": "markdown",
   "metadata": {},
   "source": [
    "### **1.c)** Display in a visualization the data used to build the model as well as the model obtained. Finally,  write the equation of the model obtained (2 out of 20) "
   ]
  },
  {
   "cell_type": "code",
   "execution_count": 4,
   "metadata": {},
   "outputs": [
    {
     "data": {
      "image/png": "[encoded data removed]",
      "text/plain": [
       "<Figure size 1000x500 with 1 Axes>"
      ]
     },
     "metadata": {},
     "output_type": "display_data"
    },
    {
     "name": "stdout",
     "output_type": "stream",
     "text": [
      "y = 0.3321117963898643 * age + 5.672550869806655\n"
     ]
    }
   ],
   "source": [
    "# Data used to build the model displayed in blue\n",
    "\n",
    "plt.figure(figsize=(10,5))\n",
    "plt.scatter(train_x, train_y, c='b')\n",
    "plt.scatter(test_x, test_y, c='r')\n",
    "\n",
    "train_yx = model.predict(train_x)\n",
    "plt.plot(train_x, train_yx, c='g')\n",
    "\n",
    "plt.show()\n",
    "\n",
    "print('y = ' + str(model.coef_[0][0]) + \" * age\" + \" + \" +  str(model.intercept_[0]))"
   ]
  },
  {
   "cell_type": "markdown",
   "metadata": {},
   "source": [
    "## Question 2 (10 points out of 20)"
   ]
  },
  {
   "cell_type": "markdown",
   "metadata": {},
   "source": [
    "Here, we aim to find out if we can create a better model to predict the weigth of children based on their age."
   ]
  },
  {
   "cell_type": "markdown",
   "metadata": {},
   "source": [
    "### **2.a)** Evaluate polynomial model of degrees 1 through 10. What degree would you choose in order to have a better model when compared to the model built previously? Why? (7 out of 20)"
   ]
  },
  {
   "cell_type": "code",
   "execution_count": 5,
   "metadata": {},
   "outputs": [
    {
     "data": {
      "text/html": [
       "<div>\n",
       "<style scoped>\n",
       "    .dataframe tbody tr th:only-of-type {\n",
       "        vertical-align: middle;\n",
       "    }\n",
       "\n",
       "    .dataframe tbody tr th {\n",
       "        vertical-align: top;\n",
       "    }\n",
       "\n",
       "    .dataframe thead th {\n",
       "        text-align: right;\n",
       "    }\n",
       "</style>\n",
       "<table border=\"1\" class=\"dataframe\">\n",
       "  <thead>\n",
       "    <tr style=\"text-align: right;\">\n",
       "      <th></th>\n",
       "      <th>test_error</th>\n",
       "    </tr>\n",
       "    <tr>\n",
       "      <th>degree</th>\n",
       "      <th></th>\n",
       "    </tr>\n",
       "  </thead>\n",
       "  <tbody>\n",
       "    <tr>\n",
       "      <th>1</th>\n",
       "      <td>-1.636245</td>\n",
       "    </tr>\n",
       "    <tr>\n",
       "      <th>2</th>\n",
       "      <td>-1.443860</td>\n",
       "    </tr>\n",
       "    <tr>\n",
       "      <th>3</th>\n",
       "      <td>-1.409529</td>\n",
       "    </tr>\n",
       "    <tr>\n",
       "      <th>4</th>\n",
       "      <td>-1.412721</td>\n",
       "    </tr>\n",
       "    <tr>\n",
       "      <th>5</th>\n",
       "      <td>-1.419276</td>\n",
       "    </tr>\n",
       "    <tr>\n",
       "      <th>6</th>\n",
       "      <td>-1.421643</td>\n",
       "    </tr>\n",
       "    <tr>\n",
       "      <th>7</th>\n",
       "      <td>-1.417251</td>\n",
       "    </tr>\n",
       "    <tr>\n",
       "      <th>8</th>\n",
       "      <td>-1.407285</td>\n",
       "    </tr>\n",
       "    <tr>\n",
       "      <th>9</th>\n",
       "      <td>-1.413365</td>\n",
       "    </tr>\n",
       "    <tr>\n",
       "      <th>10</th>\n",
       "      <td>-1.400866</td>\n",
       "    </tr>\n",
       "  </tbody>\n",
       "</table>\n",
       "</div>"
      ],
      "text/plain": [
       "        test_error\n",
       "degree            \n",
       "1        -1.636245\n",
       "2        -1.443860\n",
       "3        -1.409529\n",
       "4        -1.412721\n",
       "5        -1.419276\n",
       "6        -1.421643\n",
       "7        -1.417251\n",
       "8        -1.407285\n",
       "9        -1.413365\n",
       "10       -1.400866"
      ]
     },
     "metadata": {},
     "output_type": "display_data"
    }
   ],
   "source": [
    "def transform_data(degree):\n",
    "    # Function transforms the data to the input for the specified degree\n",
    "    poly_features = PolynomialFeatures(degree)\n",
    "    poly_trans = poly_features.fit_transform(x)\n",
    "    df_trans = pd.DataFrame(poly_trans)\n",
    "    return df_trans\n",
    "\n",
    "# Estimate error for degrees 1 to 10\n",
    "estimator = linear_model.LinearRegression()\n",
    "df = pd.DataFrame({'degree': range(1,11)})\n",
    "\n",
    "df['test_error'] = df['degree'].apply(lambda x: cross_val_score(estimator, transform_data(x), y, scoring='neg_mean_squared_error', cv=10).mean())\n",
    "display(df.set_index('degree'))"
   ]
  },
  {
   "cell_type": "markdown",
   "metadata": {},
   "source": [
    "### Comments:\n",
    "\n",
    "The previous model (linear model with degree 1) had an error of approximately -1.64, which is the highest error of all the models we evaluated. Of course, as we increase the degree of the polynomial model, the less error we tend to obtain (indicated by values closer to zero). However, in order to choose the best model, minimizing error is not the only criteria, as the goal of a model is to predict for new data. So, a balance between low error but generalized model (and therefore low degree) is what we want to achieve.\n",
    "\n",
    "In this case, we can see that the model with degree 3 has a very low error, being only slightly beaten by models with degree 8 and 10. So, implementing the logic stated above, we should choose the polynomial model with degree 3."
   ]
  },
  {
   "cell_type": "markdown",
   "metadata": {},
   "source": [
    "### **2.b)** Using the best polynomial degree, find the coefficients of the best curve (3 points out of 20)"
   ]
  },
  {
   "cell_type": "code",
   "execution_count": 8,
   "metadata": {},
   "outputs": [
    {
     "name": "stdout",
     "output_type": "stream",
     "text": [
      "y = 0.7666392892822864 * age^1 + -0.033913007765631935 * age^2 + 0.0006973667216639834 * age^3 + 4.5828504778354535\n"
     ]
    }
   ],
   "source": [
    "degree = 3\n",
    "polynomial_features = PolynomialFeatures(degree)\n",
    "\n",
    "# Prepare the data and define the train and test sets\n",
    "inputDF = transform_data(degree)\n",
    "inputDF['y'] = y\n",
    "\n",
    "train_set, test_set = train_test_split(inputDF, test_size = 0.2, random_state = seed)\n",
    "\n",
    "train_x = train_set.iloc[:, 0:len(train_set.columns)-1]\n",
    "train_y = train_set[['y']]\n",
    "\n",
    "# Build the model using the training data\n",
    "model = linear_model.LinearRegression()\n",
    "model.fit(train_x, train_y)\n",
    "\n",
    "# Use a loop to print the equation for the model\n",
    "equation = 'y = '\n",
    "for i in range(1, degree+1):\n",
    "    equation += f\"{model.coef_[0][i]} * age^{i} + \"\n",
    "equation += str(model.intercept_[0])\n",
    "print(equation)"
   ]
  }
 ],
 "metadata": {
  "anaconda-cloud": {},
  "kernelspec": {
   "display_name": "Python 3 (ipykernel)",
   "language": "python",
   "name": "python3"
  },
  "language_info": {
   "codemirror_mode": {
    "name": "ipython",
    "version": 3
   },
   "file_extension": ".py",
   "mimetype": "text/x-python",
   "name": "python",
   "nbconvert_exporter": "python",
   "pygments_lexer": "ipython3",
   "version": "3.11.5"
  }
 },
 "nbformat": 4,
 "nbformat_minor": 1
}
