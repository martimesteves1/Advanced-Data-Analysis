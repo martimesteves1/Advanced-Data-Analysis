{
 "cells": [
  {
   "cell_type": "markdown",
   "metadata": {},
   "source": [
    "# STUDENT NAME, STUDENT NUMBER (TO BE FILLED BY THE STUDENT)"
   ]
  },
  {
   "cell_type": "markdown",
   "metadata": {},
   "source": [
    "# Advanced Data Analysis - Assignment 2\n",
    "\n",
    "This notebook contains the **Assignment 2** of the Advanced Data Analysis course.\n",
    "\n",
    "The topic of the assignment consists in applying regression on National Health and Nutrition Examination data.\n",
    "\n",
    "### DEADLINE: 13-October-2023\n",
    "\n",
    "The assignment is **individual**. You should submit your resolution on Moodle by the deadline. While doing this assignment, you can use or adapt any code from the lectures if you want. \n",
    "\n",
    "Students have three grace days that they can use for all assignments and group project, which allows them to deliver the projects late. Use these grace days carefully.\n",
    "\n",
    "[//]: # (We will be using latex for fomulas)\n",
    "\n",
    "<script type=\"text/javascript\"\n",
    "        src=\"https://cdnjs.cloudflare.com/ajax/libs/mathjax/2.7.0/MathJax.js?config=TeX-AMS_CHTML\"></script>\n",
    "        \n",
    "### Notebook Instructions\n",
    "* You only need to deliver this notebook file (notice that, a notebook file extension is filename.ipynb) - Data files must not be submitted\n",
    "* You don't need to create additional cells. Try to use the ones that are already available\n",
    "* The notebook should be delivered with the outputs already available\n"
   ]
  },
  {
   "cell_type": "markdown",
   "metadata": {},
   "source": [
    "# Considerations\n",
    "\n",
    "Points were deducted in the following situations:\n",
    "- If a cell does not run;\n",
    "- If unucessary intermediate steps are presented;\n",
    "- Even if the output is correct, but the code is too verbose (i.e. solution could be much simpler, given concepts taught in class)."
   ]
  },
  {
   "cell_type": "markdown",
   "metadata": {},
   "source": [
    "# Dataset"
   ]
  },
  {
   "cell_type": "markdown",
   "metadata": {},
   "source": [
    "The file children.csv contains a file with two columns. The first column is the age of each child in\n",
    "months, and the second the weight in Kg. The data is from the National Health and Nutrition Examination\n",
    "Survey of 2017-2018 and represents a sample of children up to 24 months old.\n",
    "\n",
    "The following code loads the children.csv file "
   ]
  },
  {
   "cell_type": "code",
   "execution_count": 22,
   "metadata": {},
   "outputs": [
    {
     "data": {
      "text/html": [
       "<div>\n",
       "<style scoped>\n",
       "    .dataframe tbody tr th:only-of-type {\n",
       "        vertical-align: middle;\n",
       "    }\n",
       "\n",
       "    .dataframe tbody tr th {\n",
       "        vertical-align: top;\n",
       "    }\n",
       "\n",
       "    .dataframe thead th {\n",
       "        text-align: right;\n",
       "    }\n",
       "</style>\n",
       "<table border=\"1\" class=\"dataframe\">\n",
       "  <thead>\n",
       "    <tr style=\"text-align: right;\">\n",
       "      <th></th>\n",
       "      <th>age</th>\n",
       "      <th>weight</th>\n",
       "    </tr>\n",
       "  </thead>\n",
       "  <tbody>\n",
       "    <tr>\n",
       "      <th>0</th>\n",
       "      <td>11.0</td>\n",
       "      <td>10.2</td>\n",
       "    </tr>\n",
       "    <tr>\n",
       "      <th>1</th>\n",
       "      <td>21.0</td>\n",
       "      <td>10.6</td>\n",
       "    </tr>\n",
       "    <tr>\n",
       "      <th>2</th>\n",
       "      <td>7.0</td>\n",
       "      <td>9.3</td>\n",
       "    </tr>\n",
       "    <tr>\n",
       "      <th>3</th>\n",
       "      <td>19.0</td>\n",
       "      <td>8.3</td>\n",
       "    </tr>\n",
       "    <tr>\n",
       "      <th>4</th>\n",
       "      <td>16.0</td>\n",
       "      <td>9.2</td>\n",
       "    </tr>\n",
       "  </tbody>\n",
       "</table>\n",
       "</div>"
      ],
      "text/plain": [
       "    age  weight\n",
       "0  11.0    10.2\n",
       "1  21.0    10.6\n",
       "2   7.0     9.3\n",
       "3  19.0     8.3\n",
       "4  16.0     9.2"
      ]
     },
     "execution_count": 22,
     "metadata": {},
     "output_type": "execute_result"
    }
   ],
   "source": [
    "# This code cell does not need to be changed\n",
    "import os\n",
    "import pandas as pd\n",
    "from sklearn import linear_model\n",
    "from sklearn.preprocessing import PolynomialFeatures\n",
    "import matplotlib.pyplot as plt\n",
    "from sklearn.model_selection import train_test_split\n",
    "from sklearn.model_selection import cross_val_score\n",
    "\n",
    "dataFileName = os.path.join( \"assignment2\", \"children.csv\")\n",
    "dataDF = pd.read_csv(dataFileName)\n",
    "dataDF.head()\n"
   ]
  },
  {
   "cell_type": "markdown",
   "metadata": {},
   "source": [
    "# Assignment"
   ]
  },
  {
   "cell_type": "markdown",
   "metadata": {},
   "source": [
    "In this assignment, we aim to predict the weight of a children until 24 monthts old based on child age. "
   ]
  },
  {
   "cell_type": "markdown",
   "metadata": {},
   "source": [
    "## Question 1\n",
    "\n",
    "In this question, we aim to create a linear regression model do predict the weight of a children based on his/her age. \n",
    "\n",
    "### **1.a)** Let's start by plotting the data in a scatter plot.  Is there any correlation between the weight and age of children?. In your opinion, is it reasonable to create a linear regression model to predict the weight of a children? (3 points out of 20). "
   ]
  },
  {
   "cell_type": "code",
   "execution_count": 54,
   "metadata": {},
   "outputs": [
    {
     "data": {
      "text/html": [
       "<div>\n",
       "<style scoped>\n",
       "    .dataframe tbody tr th:only-of-type {\n",
       "        vertical-align: middle;\n",
       "    }\n",
       "\n",
       "    .dataframe tbody tr th {\n",
       "        vertical-align: top;\n",
       "    }\n",
       "\n",
       "    .dataframe thead th {\n",
       "        text-align: right;\n",
       "    }\n",
       "</style>\n",
       "<table border=\"1\" class=\"dataframe\">\n",
       "  <thead>\n",
       "    <tr style=\"text-align: right;\">\n",
       "      <th></th>\n",
       "      <th>age</th>\n",
       "      <th>weight</th>\n",
       "    </tr>\n",
       "  </thead>\n",
       "  <tbody>\n",
       "    <tr>\n",
       "      <th>age</th>\n",
       "      <td>1.000000</td>\n",
       "      <td>0.879615</td>\n",
       "    </tr>\n",
       "    <tr>\n",
       "      <th>weight</th>\n",
       "      <td>0.879615</td>\n",
       "      <td>1.000000</td>\n",
       "    </tr>\n",
       "  </tbody>\n",
       "</table>\n",
       "</div>"
      ],
      "text/plain": [
       "             age    weight\n",
       "age     1.000000  0.879615\n",
       "weight  0.879615  1.000000"
      ]
     },
     "execution_count": 54,
     "metadata": {},
     "output_type": "execute_result"
    },
    {
     "data": {
      "image/png": "[encoded data removed]",
      "text/plain": [
       "<Figure size 432x288 with 1 Axes>"
      ]
     },
     "metadata": {
      "needs_background": "light"
     },
     "output_type": "display_data"
    }
   ],
   "source": [
    "seed = 40\n",
    "\n",
    "x = dataDF[['age']]\n",
    "y = dataDF[['weight']]\n",
    "plt.scatter(x, y)\n",
    "\n",
    "dataDF.corr()"
   ]
  },
  {
   "cell_type": "markdown",
   "metadata": {},
   "source": [
    "Regression models describe the relationship between variables by fitting a line to the observed data. Linear regression models assume a linear relationship between the input variable (x) and the output (the target variable) that we want to predict.\n",
    "\n",
    "So it's reasonable to use a linear regression model when there is a strong linear relationship between the input and the output. In our example, and after plotting the data, the weight and age are linear to some degree. This is later on confirmed by the Pearson correlation index, which is a statistical method that measures the strength and direction of linear relationship between two quantitative variables. Values closer to 1 means positive correlation, which in our case the value is 0.88.\n",
    "\n",
    "In short, it seems to be reasonable to apply linear regression to this dataset. "
   ]
  },
  {
   "cell_type": "markdown",
   "metadata": {},
   "source": [
    "### **1.b)** Build a linear regression model and estimate the true error (5 out of 20) "
   ]
  },
  {
   "cell_type": "code",
   "execution_count": 55,
   "metadata": {},
   "outputs": [
    {
     "data": {
      "text/plain": [
       "LinearRegression()"
      ]
     },
     "execution_count": 55,
     "metadata": {},
     "output_type": "execute_result"
    }
   ],
   "source": [
    "# Build linear regression model\n",
    "\n",
    "train_set, test_set = train_test_split(dataDF, test_size = 0.2, random_state = seed)\n",
    "\n",
    "x_train = train_set[['age']]\n",
    "y_train = train_set[['weight']]\n",
    "\n",
    "x_test = test_set[['age']]\n",
    "y_test = test_set[['weight']]\n",
    "\n",
    "lmodel = linear_model.LinearRegression()\n",
    "lmodel.fit(x_train, y_train)"
   ]
  },
  {
   "cell_type": "code",
   "execution_count": 56,
   "metadata": {},
   "outputs": [
    {
     "name": "stdout",
     "output_type": "stream",
     "text": [
      "-1.6362454439449432\n"
     ]
    }
   ],
   "source": [
    "lmodel_type = linear_model.LinearRegression()\n",
    "estimate_error = cross_val_score(lmodel_type, x, y, scoring='neg_mean_squared_error', cv = 10).mean()\n",
    "\n",
    "print(estimate_error)"
   ]
  },
  {
   "cell_type": "markdown",
   "metadata": {},
   "source": [
    "To estimate true error, k-fold cross method was used because by using several partitions, we reduce the chance of having the estimate of the expected error (i.e., test error) influenced by the partition used and, as a result, have a more reliable estimate."
   ]
  },
  {
   "cell_type": "markdown",
   "metadata": {},
   "source": [
    "### **1.c)** Display in a visualization the data used to build the model as well as the model obtained. Finally,  write the equation of the model obtained (2 out of 20) "
   ]
  },
  {
   "cell_type": "code",
   "execution_count": 79,
   "metadata": {
    "scrolled": true
   },
   "outputs": [
    {
     "data": {
      "image/png": "[encoded data removed]",
      "text/plain": [
       "<Figure size 432x288 with 1 Axes>"
      ]
     },
     "metadata": {
      "needs_background": "light"
     },
     "output_type": "display_data"
    },
    {
     "name": "stdout",
     "output_type": "stream",
     "text": [
      "theta0 =  [5.70254107]\n",
      "theta1 =  [[0.3348116]]\n"
     ]
    }
   ],
   "source": [
    "pred_train = lmodel.predict(x_train)\n",
    "\n",
    "plt.scatter(x_train, y_train, c = 'b') # train set\n",
    "plt.scatter(x_test, y_test, c = 'r') # test set\n",
    "\n",
    "plt.plot(x_train['age'],pred_train, color = 'green') #  model\n",
    "    \n",
    "plt.show()\n",
    "\n",
    "print('theta0 = ',lmodel.intercept_)\n",
    "print('theta1 = ',lmodel.coef_)\n",
    "\n",
    "## Equation = y = 0.33*age + 5.7"
   ]
  },
  {
   "cell_type": "markdown",
   "metadata": {},
   "source": [
    "## Question 2 (10 points out of 20)"
   ]
  },
  {
   "cell_type": "markdown",
   "metadata": {},
   "source": [
    "Here, we aim to find out if we can create a better model to predict the weigth of children based on their age."
   ]
  },
  {
   "cell_type": "markdown",
   "metadata": {},
   "source": [
    "### **2.a)** Evaluate polynomial model of degrees 1 through 10. What degree would you choose in order to have a better model when compared to the model built previously? Why? (7 out of 20)"
   ]
  },
  {
   "cell_type": "code",
   "execution_count": 83,
   "metadata": {},
   "outputs": [],
   "source": [
    "seed = 10\n",
    "def trans_data(degree, input):\n",
    "    polynomial_features = PolynomialFeatures(degree)\n",
    "    \n",
    "    # Transform the original input data\n",
    "    poly_trans = polynomial_features.fit_transform(input) # x is our initial variable that has all inputs\n",
    "    input_df = pd.DataFrame(poly_trans)\n",
    "    return input_df\n",
    "\n"
   ]
  },
  {
   "cell_type": "code",
   "execution_count": 84,
   "metadata": {},
   "outputs": [
    {
     "data": {
      "text/html": [
       "<div>\n",
       "<style scoped>\n",
       "    .dataframe tbody tr th:only-of-type {\n",
       "        vertical-align: middle;\n",
       "    }\n",
       "\n",
       "    .dataframe tbody tr th {\n",
       "        vertical-align: top;\n",
       "    }\n",
       "\n",
       "    .dataframe thead th {\n",
       "        text-align: right;\n",
       "    }\n",
       "</style>\n",
       "<table border=\"1\" class=\"dataframe\">\n",
       "  <thead>\n",
       "    <tr style=\"text-align: right;\">\n",
       "      <th></th>\n",
       "      <th>degree</th>\n",
       "      <th>test_error</th>\n",
       "    </tr>\n",
       "  </thead>\n",
       "  <tbody>\n",
       "    <tr>\n",
       "      <th>9</th>\n",
       "      <td>10</td>\n",
       "      <td>-1.400844</td>\n",
       "    </tr>\n",
       "    <tr>\n",
       "      <th>7</th>\n",
       "      <td>8</td>\n",
       "      <td>-1.407285</td>\n",
       "    </tr>\n",
       "    <tr>\n",
       "      <th>2</th>\n",
       "      <td>3</td>\n",
       "      <td>-1.409529</td>\n",
       "    </tr>\n",
       "    <tr>\n",
       "      <th>3</th>\n",
       "      <td>4</td>\n",
       "      <td>-1.412721</td>\n",
       "    </tr>\n",
       "    <tr>\n",
       "      <th>8</th>\n",
       "      <td>9</td>\n",
       "      <td>-1.413343</td>\n",
       "    </tr>\n",
       "    <tr>\n",
       "      <th>6</th>\n",
       "      <td>7</td>\n",
       "      <td>-1.417251</td>\n",
       "    </tr>\n",
       "    <tr>\n",
       "      <th>4</th>\n",
       "      <td>5</td>\n",
       "      <td>-1.419276</td>\n",
       "    </tr>\n",
       "    <tr>\n",
       "      <th>5</th>\n",
       "      <td>6</td>\n",
       "      <td>-1.421643</td>\n",
       "    </tr>\n",
       "    <tr>\n",
       "      <th>1</th>\n",
       "      <td>2</td>\n",
       "      <td>-1.443860</td>\n",
       "    </tr>\n",
       "    <tr>\n",
       "      <th>0</th>\n",
       "      <td>1</td>\n",
       "      <td>-1.636245</td>\n",
       "    </tr>\n",
       "  </tbody>\n",
       "</table>\n",
       "</div>"
      ],
      "text/plain": [
       "   degree  test_error\n",
       "9      10   -1.400844\n",
       "7       8   -1.407285\n",
       "2       3   -1.409529\n",
       "3       4   -1.412721\n",
       "8       9   -1.413343\n",
       "6       7   -1.417251\n",
       "4       5   -1.419276\n",
       "5       6   -1.421643\n",
       "1       2   -1.443860\n",
       "0       1   -1.636245"
      ]
     },
     "execution_count": 84,
     "metadata": {},
     "output_type": "execute_result"
    }
   ],
   "source": [
    "model = linear_model.LinearRegression()\n",
    "\n",
    "df = pd.DataFrame({'degree' : range(1, 11, 1)})\n",
    "\n",
    "df['test_error'] = df['degree'].apply(lambda d: cross_val_score(model, trans_data(d, x), y, scoring='neg_mean_squared_error', cv = 10).mean())\n",
    "df.sort_values('test_error', ascending=False)\n",
    "\n",
    "## Notice that, with a different seed value the results may vary a bit."
   ]
  },
  {
   "cell_type": "markdown",
   "metadata": {},
   "source": [
    "### **2.b)** Using the best polynomial degree, find the coefficients of the best curve (3 points out of 20)"
   ]
  },
  {
   "cell_type": "code",
   "execution_count": 164,
   "metadata": {},
   "outputs": [
    {
     "name": "stdout",
     "output_type": "stream",
     "text": [
      "theta0 =  [4.62785592]\n",
      "theta1 =  [[ 0.00000000e+00 -3.52561061e-01  1.69329977e+00 -9.85921023e-01\n",
      "   2.85290283e-01 -4.70384883e-02  4.67694269e-03 -2.85183933e-04\n",
      "   1.04255888e-05 -2.09619767e-07  1.78149762e-09]]\n"
     ]
    }
   ],
   "source": [
    "# Build linear regression model\n",
    "train_set, test_set = train_test_split(dataDF, test_size = 0.2, random_state = seed)\n",
    "\n",
    "x_train = train_set[['age']]\n",
    "y_train = train_set[['weight']]\n",
    "\n",
    "x_test = test_set[['age']]\n",
    "y_test = test_set[['weight']]\n",
    "\n",
    "pmodel = linear_model.LinearRegression()\n",
    "pmodel.fit(trans_data(10, x_train), y_train)\n",
    "\n",
    "print ('theta0 = ',pmodel.intercept_)\n",
    "print ('theta1 = ',pmodel.coef_)"
   ]
  }
 ],
 "metadata": {
  "anaconda-cloud": {},
  "kernelspec": {
   "display_name": "Python 3 (ipykernel)",
   "language": "python",
   "name": "python3"
  },
  "language_info": {
   "codemirror_mode": {
    "name": "ipython",
    "version": 3
   },
   "file_extension": ".py",
   "mimetype": "text/x-python",
   "name": "python",
   "nbconvert_exporter": "python",
   "pygments_lexer": "ipython3",
   "version": "3.9.12"
  }
 },
 "nbformat": 4,
 "nbformat_minor": 1
}
