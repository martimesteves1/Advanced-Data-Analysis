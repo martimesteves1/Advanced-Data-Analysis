{
  "cells": [
    {
      "cell_type": "markdown",
      "id": "d9e90bac",
      "metadata": {
        "id": "d9e90bac"
      },
      "source": [
        "# Advanced Data Analysis 2023/24 - assignment 1 solution\n",
        "\n",
        "**NAME:**\n",
        "\n",
        "**NUMBER:**\n",
        "\n",
        "This notebook contains the **Assignment 1** of the Advanced Data Analysis course.\n",
        "\n",
        "The topic of the assignment consists in performing multiple analysis on information about Olympic games.\n",
        "\n",
        "\n",
        "The data in the dataset provided was obtained from Kaggle.\n",
        "\n",
        "\n",
        "### DEADLINE: 29-September-2023\n",
        "\n",
        "The assignment is **individual**. You should submit your resolution on Moodle by the deadline.\n",
        "\n",
        "Students have **three grace days** that they can use for all assignments and group project, which allows them to deliver the projects late. Use these grace days carefully.\n",
        "\n",
        "[//]: # (We will be using latex for fomulas)\n",
        "\n",
        "<script type=\"text/javascript\"\n",
        "        src=\"https://cdnjs.cloudflare.com/ajax/libs/mathjax/2.7.0/MathJax.js?config=TeX-AMS_CHTML\"></script>\n"
      ]
    },
    {
      "cell_type": "markdown",
      "id": "dda26fd3",
      "metadata": {
        "id": "dda26fd3"
      },
      "source": [
        "### Preliminaries\n",
        "\n",
        "Just import the libraries that will be needed throughout the assignment."
      ]
    },
    {
      "cell_type": "code",
      "execution_count": 1,
      "id": "69621cc6",
      "metadata": {
        "id": "69621cc6"
      },
      "outputs": [],
      "source": [
        "# imports pandas\n",
        "import pandas as pd\n",
        "\n",
        "import os\n",
        "\n",
        "import matplotlib.pyplot as plt\n"
      ]
    },
    {
      "cell_type": "markdown",
      "id": "8f7c9f20",
      "metadata": {
        "id": "8f7c9f20"
      },
      "source": [
        "## Datasets\n",
        "\n",
        "For solving the questions posed, you have the following datasets available.\n",
        "\n",
        "### Olympic Games Data\n",
        "\n",
        "Data from the Olympic Games, for the period considered, were collected for each individual athlete in a given Olympic event (or race) and recorded in the file `athlete_events.csv`. For example, the following entry is for the first gold medal won by a Portuguese woman:\n",
        "\n",
        "| |ID |Name |Sex |Age |Height |Weight |Team |NOC |Games |Year |Season |City |Sport |Event |Medal|\n",
        "|---|---|-------|-------|-------|-------|-------|- ------|-------|-------|-------|-------|-------|--- ----|-----------|-----|\n",
        "|164334 |82494 |Rosa Mara Correia dos Santos Mota |F |30 |157 |45 |Portugal |POR |1988 Summer |1988 |Summer |Seoul |Athletics |Athletics Women's Marathon |Gold|\n",
        "\n",
        "The file structure is illustrated in the figure below:\n",
        "\n",
        "![Olympic data](imgs/raw_athlete_events.png)\n",
        "\n",
        "As can be seen, various information is recorded for each individual athlete in a given Olympic event, such as name (`Name`), gender (`Sex`), age (`Age`), edition of the Olympic Games (`Games `), the Olympic event (`Event`) among others. It should be noted that, for each athlete, there is an identifier (`ID`) that is unique to that athlete and invariable - it remains for all Olympic events in which that athlete has participated, regardless of the edition (year).\n",
        "\n",
        "Regarding Olympic events, there are individual events and team events - e.g. football and the 4x100m relay are team events. In team events, the data includes one record for each athlete on the team.\n",
        "\n",
        "### Population\n",
        "\n",
        "CSV file `population.csv` includes information about the population of each country for a given year.\n",
        "\n",
        "The csv file includes ISO3 code of the country (in lower case) (`geo`), the name of the country (`name`), the year (`time`) and the population (`population`).\n",
        "\n",
        "### Country codes\n",
        "\n",
        "CSV file `codes.csv` includes information about the different codes used for different countries.\n",
        "\n",
        "The csv file includes, among other, the name of the country (`Country`), ISO3 code (`ISO3`) and the national olympic code (`IOC`).\n",
        "\n",
        "\n",
        "The following code loads the datasets.\n"
      ]
    },
    {
      "cell_type": "code",
      "execution_count": null,
      "id": "f7d46c2c",
      "metadata": {
        "id": "f7d46c2c",
        "outputId": "250b5f85-b2a6-442e-c12d-b3c20b683ff8"
      },
      "outputs": [
        {
          "name": "stdout",
          "output_type": "stream",
          "text": [
            "   ID                      Name Sex   Age  Height  Weight            Team   \n",
            "0   1                 A Dijiang   M  24.0   180.0    80.0           China  \\\n",
            "1   2                  A Lamusi   M  23.0   170.0    60.0           China   \n",
            "2   3       Gunnar Nielsen Aaby   M  24.0     NaN     NaN         Denmark   \n",
            "3   4      Edgar Lindenau Aabye   M  34.0     NaN     NaN  Denmark/Sweden   \n",
            "4   5  Christine Jacoba Aaftink   F  21.0   185.0    82.0     Netherlands   \n",
            "\n",
            "   NOC        Games  Year  Season       City          Sport   \n",
            "0  CHN  1992 Summer  1992  Summer  Barcelona     Basketball  \\\n",
            "1  CHN  2012 Summer  2012  Summer     London           Judo   \n",
            "2  DEN  1920 Summer  1920  Summer  Antwerpen       Football   \n",
            "3  DEN  1900 Summer  1900  Summer      Paris     Tug-Of-War   \n",
            "4  NED  1988 Winter  1988  Winter    Calgary  Speed Skating   \n",
            "\n",
            "                              Event Medal  \n",
            "0       Basketball Men's Basketball   NaN  \n",
            "1      Judo Men's Extra-Lightweight   NaN  \n",
            "2           Football Men's Football   NaN  \n",
            "3       Tug-Of-War Men's Tug-Of-War  Gold  \n",
            "4  Speed Skating Women's 500 metres   NaN  \n"
          ]
        }
      ],
      "source": [
        "dataFileName = os.path.join( \"data\", \"athlete_events.csv\")\n",
        "\n",
        "dataDF = pd.read_csv(dataFileName)\n",
        "\n",
        "print(dataDF.head(5))"
      ]
    },
    {
      "cell_type": "code",
      "execution_count": null,
      "id": "201d0f29",
      "metadata": {
        "id": "201d0f29",
        "outputId": "48e90ed3-550a-4353-9f5e-b53469bfbb7f"
      },
      "outputs": [
        {
          "name": "stdout",
          "output_type": "stream",
          "text": [
            "          Country ISO2 ISO3   ISON  IOC FIPS Plates Domain\n",
            "0     Afghanistan   AF  AFG    4.0  AFG   AF    AFG    .af\n",
            "1   Åland Islands   AX  ALA  248.0  NaN  NaN     AX    .ax\n",
            "2         Albania   AL  ALB    8.0  ALB   AL     AL    .al\n",
            "3         Algeria   DZ  DZA   12.0  ALG   AG     DZ    .dz\n",
            "4  American Samoa   AS  ASM   16.0  ASA   AQ    USA    .as\n"
          ]
        }
      ],
      "source": [
        "codesFileName = os.path.join( \"data\", \"codes.csv\")\n",
        "\n",
        "codesDF = pd.read_csv(codesFileName)\n",
        "\n",
        "print(codesDF.head(5))"
      ]
    },
    {
      "cell_type": "code",
      "execution_count": null,
      "id": "7bc08611-95ac-4ca3-b324-195e26a98f8d",
      "metadata": {
        "id": "7bc08611-95ac-4ca3-b324-195e26a98f8d",
        "outputId": "7e363c78-05a5-43dd-ddfc-7e1aeea348d1"
      },
      "outputs": [
        {
          "name": "stdout",
          "output_type": "stream",
          "text": [
            "   geo         name  time  Population\n",
            "0  afg  Afghanistan  1800   3280000.0\n",
            "1  afg  Afghanistan  1801   3280000.0\n",
            "2  afg  Afghanistan  1802   3280000.0\n",
            "3  afg  Afghanistan  1803   3280000.0\n",
            "4  afg  Afghanistan  1804   3280000.0\n"
          ]
        }
      ],
      "source": [
        "populationFileName = os.path.join( \"data\", \"population.csv\")\n",
        "\n",
        "populationDF = pd.read_csv(populationFileName)\n",
        "\n",
        "print(populationDF.head(5))"
      ]
    },
    {
      "cell_type": "markdown",
      "id": "cb83ef7a-5fb5-43b2-9d66-d9664783594d",
      "metadata": {
        "id": "cb83ef7a-5fb5-43b2-9d66-d9664783594d"
      },
      "source": [
        "For data on atheletes, there are some information missing. We can compute the number of entries missing using the following code.\n",
        "\n",
        "**NOTE:** the missing information on Medal is expected - it just means that the athlete has won no medal in the event."
      ]
    },
    {
      "cell_type": "code",
      "execution_count": null,
      "id": "c2a7e189-a5c0-45fd-9bca-faf7784e26f9",
      "metadata": {
        "id": "c2a7e189-a5c0-45fd-9bca-faf7784e26f9",
        "outputId": "f4bb52e7-3aa8-467e-97b5-288bf10f50dc"
      },
      "outputs": [
        {
          "data": {
            "text/plain": [
              "ID             0\n",
              "Name           0\n",
              "Sex            0\n",
              "Age         9474\n",
              "Height     60171\n",
              "Weight     62875\n",
              "Team           0\n",
              "NOC            0\n",
              "Games          0\n",
              "Year           0\n",
              "Season         0\n",
              "City           0\n",
              "Sport          0\n",
              "Event          0\n",
              "Medal     231333\n",
              "dtype: int64"
            ]
          },
          "execution_count": 5,
          "metadata": {},
          "output_type": "execute_result"
        }
      ],
      "source": [
        "dataDF.isna().sum()"
      ]
    },
    {
      "cell_type": "markdown",
      "id": "4b040642-9826-4ae0-803e-41091e1916ab",
      "metadata": {
        "id": "4b040642-9826-4ae0-803e-41091e1916ab"
      },
      "source": [
        "**GENERAL NOTE:** In your computations, if there are rows for which needed information is missing, just drop the rows."
      ]
    },
    {
      "cell_type": "markdown",
      "id": "57e78d76",
      "metadata": {
        "id": "57e78d76"
      },
      "source": [
        "## Question 1 (7 points)\n",
        "\n",
        "In this question, we start by exploring the data available with simple queries. In your answers, you can use the data computed in the previous answers if and when useful.\n",
        "\n",
        "\n",
        "### **1.a)** How many athletes have participated in Summer Olympics and how many athlete participated in Winter Olympics?\n",
        "\n"
      ]
    },
    {
      "cell_type": "code",
      "execution_count": null,
      "id": "3c449a64",
      "metadata": {
        "id": "3c449a64",
        "outputId": "ceda0e05-f9f9-415c-8385-b65b401a7645"
      },
      "outputs": [
        {
          "name": "stdout",
          "output_type": "stream",
          "text": [
            "summer\n",
            "116776\n",
            "winter\n",
            "18958\n"
          ]
        }
      ],
      "source": [
        "#Solve question here. Add a Markdown cell after this cell if you want to add some comment on you solution.\n",
        "\n",
        "summer = dataDF[dataDF[\"Season\"]==\"Summer\"][\"ID\"].nunique()\n",
        "print( \"summer\")\n",
        "print( summer)\n",
        "winter = dataDF[dataDF[\"Season\"]==\"Winter\"][\"ID\"].nunique()\n",
        "print( \"winter\")\n",
        "print( winter)\n"
      ]
    },
    {
      "cell_type": "markdown",
      "id": "a06774ac",
      "metadata": {
        "id": "a06774ac"
      },
      "source": [
        "### **1.b)** Who are the three youngest and oldest athletes that won a Gold medal in the Olympic games?\n",
        "\n",
        "Show the following information about each athelete: Name, Age, Team, Games, Sport and Event.\n"
      ]
    },
    {
      "cell_type": "code",
      "execution_count": null,
      "id": "c546fd65",
      "metadata": {
        "id": "c546fd65",
        "outputId": "1a5df189-08ad-4105-bf26-661a9b01273a"
      },
      "outputs": [
        {
          "name": "stdout",
          "output_type": "stream",
          "text": [
            "Oldest athletes\n",
            "                        Name   Age           Team        Games   \n",
            "105199       Charles Jacobus  64.0  United States  1904 Summer  \\\n",
            "233390     Oscar Gomer Swahn  64.0         Sweden  1912 Summer   \n",
            "104003  Isaac Lazarus Israls  63.0    Netherlands  1928 Summer   \n",
            "\n",
            "                   Sport                                             Event  \n",
            "105199             Roque                               Roque Men's Singles  \n",
            "233390          Shooting  Shooting Men's Running Target, Single Shot, Team  \n",
            "104003  Art Competitions        Art Competitions Mixed Painting, Paintings  \n",
            "Youngest athletes\n",
            "                                     Name   Age           Team        Games   \n",
            "27207                       Hans Bourquin  13.0    Switzerland  1928 Summer  \\\n",
            "52010  Donna Elizabeth de Varona (-Pinto)  13.0  United States  1960 Summer   \n",
            "73581                          Fu Mingxia  13.0          China  1992 Summer   \n",
            "\n",
            "          Sport                                            Event  \n",
            "27207    Rowing                         Rowing Men's Coxed Pairs  \n",
            "52010  Swimming  Swimming Women's 4 x 100 metres Freestyle Relay  \n",
            "73581    Diving                          Diving Women's Platform  \n"
          ]
        }
      ],
      "source": [
        "#Solve question here. Add a Markdown cell after this cell if you want to add some comment on you solution.\n",
        "\n",
        "highest = dataDF[dataDF[\"Medal\"] == \"Gold\"][[\"Name\",\"Age\",\"Team\",\"Games\",\"Sport\",\"Event\"]].nlargest(3,\"Age\")\n",
        "print( \"Oldest athletes\")\n",
        "print( highest)\n",
        "lowest = dataDF[dataDF[\"Medal\"] == \"Gold\"][[\"Name\",\"Age\",\"Team\",\"Games\",\"Sport\",\"Event\"]].nsmallest(3,\"Age\")\n",
        "print( \"Youngest athletes\")\n",
        "print( lowest)\n",
        "\n",
        "# NOTE: this does not show other atheletes if there are more atheletes\n",
        "# with the same age"
      ]
    },
    {
      "cell_type": "markdown",
      "id": "1d7f0200",
      "metadata": {
        "id": "1d7f0200"
      },
      "source": [
        "### 1.c) Who are the top-10 athletes that have won more Gold medals in the Olympic Games?\n",
        "\n"
      ]
    },
    {
      "cell_type": "code",
      "execution_count": null,
      "id": "a25abf0f",
      "metadata": {
        "id": "a25abf0f",
        "outputId": "071e52f0-8733-45a7-b67d-ba23d15d5dc7"
      },
      "outputs": [
        {
          "name": "stdout",
          "output_type": "stream",
          "text": [
            "                                      Name  Medal\n",
            "ID                                               \n",
            "6430             Shirley Frances Babashoff      6\n",
            "28790      Aleksandr Nikolayevich Dityatin      6\n",
            "127501         Mikhail Yakovlevich Voronin      6\n",
            "4198          Nikolay Yefimovich Andrianov      5\n",
            "31659      Andrea Ehrig-Schne-Mitscherlich      5\n",
            "46393                          Dagmar Hase      5\n",
            "50011       Mariya Kindrativna Horokhovska      5\n",
            "55692                   Leisel Marie Jones      5\n",
            "63400                        Katalin Kovcs      5\n",
            "67046   Larysa Semenivna Latynina (Diriy-)      5\n"
          ]
        }
      ],
      "source": [
        "#Solve question here. Add a Markdown cell after this cell if you want to add some comment on you solution.\n",
        "\n",
        "won = dataDF[(dataDF[\"Medal\"] == \"Gold\")][[\"ID\",\"Name\",\"Medal\"]].groupby(\"ID\")\\\n",
        "                    .agg({\"Name\":\"first\",\"Medal\":\"count\"})\n",
        "best = won.nlargest(10,[\"Medal\"])\n",
        "print(best)\n",
        "\n"
      ]
    },
    {
      "cell_type": "markdown",
      "id": "e5ce1ae2",
      "metadata": {
        "id": "e5ce1ae2"
      },
      "source": [
        "### 1.d) For Summer Olympics, after 1950, who are the athletes that have won more medals in each edition?\n",
        "\n",
        "Show the following information: Year, Name of athlete, and number of medals."
      ]
    },
    {
      "cell_type": "code",
      "execution_count": null,
      "id": "a6fd5f81",
      "metadata": {
        "id": "a6fd5f81",
        "outputId": "fafd1d63-60cf-462a-e286-050e13f661cd"
      },
      "outputs": [
        {
          "name": "stdout",
          "output_type": "stream",
          "text": [
            "                                    Name  Medal\n",
            "Year                                           \n",
            "1952      Mariya Kindrativna Horokhovska      7\n",
            "1956           gnes Keleti-Srkny (Klein)      6\n",
            "1960         Borys Anfiyanovych Shakhlin      7\n",
            "1964  Larysa Semenivna Latynina (Diriy-)      6\n",
            "1968         Mikhail Yakovlevich Voronin      7\n",
            "1972                   Mark Andrew Spitz      7\n",
            "1976        Nikolay Yefimovich Andrianov      7\n",
            "1980     Aleksandr Nikolayevich Dityatin      8\n",
            "1984                             Li Ning      6\n",
            "1988      Matthew Nicholas \"Matt\" Biondi      7\n",
            "1992       Vitaly Venediktovich Shcherbo      6\n",
            "1996             Aleksey Yuryevich Nemov      6\n",
            "2000             Aleksey Yuryevich Nemov      6\n",
            "2004             Michael Fred Phelps, II      8\n",
            "2008             Michael Fred Phelps, II      8\n",
            "2012             Michael Fred Phelps, II      6\n",
            "2016             Michael Fred Phelps, II      6\n"
          ]
        }
      ],
      "source": [
        "#Solve question here. Add a Markdown cell after this cell if you want to add some comment on you solution.\n",
        "\n",
        "won = dataDF[(~dataDF[\"Medal\"].isna())&(dataDF[\"Year\"]>1950)&(dataDF[\"Season\"]==\"Summer\")][[\"ID\",\"Name\",\"Medal\",\"Year\"]]\\\n",
        "                    .groupby([\"ID\",\"Year\"]).agg({\"Name\":\"first\",\"Medal\":\"count\"})\n",
        "byyear = won.reset_index().groupby(\"Year\").apply(lambda p: p.nlargest(1,[\"Medal\"]))\n",
        "byyear = byyear.set_index(\"Year\").drop(columns=[\"ID\"])\n",
        "print(byyear)\n",
        "\n"
      ]
    },
    {
      "cell_type": "markdown",
      "id": "ef834e5d",
      "metadata": {
        "id": "ef834e5d"
      },
      "source": [
        "### 1.e) For each athlete, compute the number of gold, silver and bronze medals she/he has won.\n",
        "\n",
        "**Suggestions:** two alternative suggestion are investigating pivot tables and custom defined aggregation functions.\n"
      ]
    },
    {
      "cell_type": "code",
      "execution_count": null,
      "id": "bed033aa",
      "metadata": {
        "id": "bed033aa",
        "outputId": "55a6bb48-28ab-4cab-daea-8b178a58859b"
      },
      "outputs": [
        {
          "name": "stdout",
          "output_type": "stream",
          "text": [
            "                                                              Gold  Silver   \n",
            "ID     Name                                                                  \n",
            "94406  Michael Fred Phelps, II                         Medal    23       3  \\\n",
            "33557  Raymond Clarence \"Ray\" Ewry                     Medal    10       0   \n",
            "67046  Larysa Semenivna Latynina (Diriy-)              Medal     9       5   \n",
            "87390  Paavo Johannes Nurmi                            Medal     9       3   \n",
            "113912 Mark Andrew Spitz                               Medal     9       1   \n",
            "69210  Frederick Carlton \"Carl\" Lewis                  Medal     9       1   \n",
            "11951  Ole Einar Bjrndalen                             Medal     8       4   \n",
            "35550  Birgit Fischer-Schmidt                          Medal     8       4   \n",
            "57998  Sawao Kato                                      Medal     8       3   \n",
            "119922 Jennifer Elisabeth \"Jenny\" Thompson (-Cumpelik) Medal     8       3   \n",
            "\n",
            "                                                              Bronze  \n",
            "ID     Name                                                           \n",
            "94406  Michael Fred Phelps, II                         Medal       2  \n",
            "33557  Raymond Clarence \"Ray\" Ewry                     Medal       0  \n",
            "67046  Larysa Semenivna Latynina (Diriy-)              Medal       4  \n",
            "87390  Paavo Johannes Nurmi                            Medal       0  \n",
            "113912 Mark Andrew Spitz                               Medal       1  \n",
            "69210  Frederick Carlton \"Carl\" Lewis                  Medal       0  \n",
            "11951  Ole Einar Bjrndalen                             Medal       1  \n",
            "35550  Birgit Fischer-Schmidt                          Medal       0  \n",
            "57998  Sawao Kato                                      Medal       1  \n",
            "119922 Jennifer Elisabeth \"Jenny\" Thompson (-Cumpelik) Medal       1  \n"
          ]
        }
      ],
      "source": [
        "#Solve question here. Add a Markdown cell after this cell if you want to add some comment on you solution.\n",
        "\n",
        "def mymedals( p):\n",
        "    d = {}\n",
        "    d[\"Gold\"] = p[p[\"Medal\"]==\"Gold\"][[\"Medal\"]].count()\n",
        "    d[\"Silver\"] = p[p[\"Medal\"]==\"Silver\"][[\"Medal\"]].count()\n",
        "    d[\"Bronze\"] = p[p[\"Medal\"]==\"Bronze\"][[\"Medal\"]].count()\n",
        "    return pd.DataFrame(data=d)\n",
        "\n",
        "medals = dataDF[[\"ID\",\"Medal\",\"Name\",\"Year\"]].groupby([\"ID\",\"Name\"]).apply(mymedals)\n",
        "\n",
        "# Let's print the top 10 just to check\n",
        "print(medals.nlargest(10,[\"Gold\",\"Silver\",\"Bronze\"]))\n",
        "\n"
      ]
    },
    {
      "cell_type": "code",
      "execution_count": null,
      "id": "16e35886-a959-4287-9c11-564d80c30445",
      "metadata": {
        "id": "16e35886-a959-4287-9c11-564d80c30445",
        "outputId": "12002148-b5a7-489b-b2d3-e23da977bf61"
      },
      "outputs": [
        {
          "name": "stdout",
          "output_type": "stream",
          "text": [
            "Medal                                                   Gold  Silver  Bronze\n",
            "ID     Name                                                                 \n",
            "94406  Michael Fred Phelps, II                          23.0     3.0     2.0\n",
            "33557  Raymond Clarence \"Ray\" Ewry                      10.0     0.0     0.0\n",
            "67046  Larysa Semenivna Latynina (Diriy-)                9.0     5.0     4.0\n",
            "87390  Paavo Johannes Nurmi                              9.0     3.0     0.0\n",
            "113912 Mark Andrew Spitz                                 9.0     1.0     1.0\n",
            "69210  Frederick Carlton \"Carl\" Lewis                    9.0     1.0     0.0\n",
            "11951  Ole Einar Bjrndalen                               8.0     4.0     1.0\n",
            "35550  Birgit Fischer-Schmidt                            8.0     4.0     0.0\n",
            "57998  Sawao Kato                                        8.0     3.0     1.0\n",
            "119922 Jennifer Elisabeth \"Jenny\" Thompson (-Cumpelik)   8.0     3.0     1.0\n"
          ]
        }
      ],
      "source": [
        "medals = dataDF[[\"ID\",\"Name\",\"Medal\",\"Year\"]].groupby([\"ID\",\"Name\",\"Medal\"]).count().reset_index()\n",
        "medals = medals.pivot(index=[\"ID\",\"Name\"],columns=\"Medal\",values=\"Year\")\n",
        "medals = medals.fillna(0)\n",
        "medals = medals[[\"Gold\",\"Silver\",\"Bronze\"]]\n",
        "# Let's print the top 10 just to check\n",
        "print(medals.nlargest(10,[\"Gold\",\"Silver\",\"Bronze\"]))\n",
        "\n",
        "\n"
      ]
    },
    {
      "cell_type": "markdown",
      "id": "284ccd8a-a3ab-439e-9223-f36d20230fd4",
      "metadata": {
        "id": "284ccd8a-a3ab-439e-9223-f36d20230fd4"
      },
      "source": [
        "### 1.f) For the games of 2016, print the table of medals for each country.\n",
        "\n",
        "**NOTE:** for collective events (e.g. football, 4*100 meters), you should count only one medal for a given event.\n",
        "In the cell after the code, explain the rationale of the code to achieve this goal - your solution does not need to be perfect, but only an approximation of the real value.\n"
      ]
    },
    {
      "cell_type": "code",
      "execution_count": null,
      "id": "87d2bf45-69da-46e7-bea2-5486c57cb255",
      "metadata": {
        "id": "87d2bf45-69da-46e7-bea2-5486c57cb255",
        "outputId": "9a9f280b-ce21-4224-9a2d-f202f6a9f71b"
      },
      "outputs": [
        {
          "name": "stdout",
          "output_type": "stream",
          "text": [
            "Medal               Gold  Silver  Bronze\n",
            "NOC Team                                \n",
            "USA United States  137.0    52.0    67.0\n",
            "GBR Great Britain   64.0    55.0    26.0\n",
            "RUS Russia          50.0    28.0    35.0\n",
            "GER Germany         47.0    43.0    67.0\n",
            "CHN China           44.0    30.0    35.0\n",
            "BRA Brazil          34.0     6.0     6.0\n",
            "AUS Australia       23.0    34.0    25.0\n",
            "ARG Argentina       21.0     1.0     0.0\n",
            "FRA France          20.0    55.0    21.0\n",
            "JPN Japan           17.0    13.0    34.0\n"
          ]
        }
      ],
      "source": [
        "# INCORRECT - without filtering duplicates\n",
        "medals2016a = dataDF[(dataDF[\"Year\"]==2016)&(~dataDF[\"Medal\"].isna())]\n",
        "medals2016a = medals2016a[[\"NOC\",\"Medal\",\"ID\"]].groupby([\"NOC\",\"Medal\"]).count().reset_index()\n",
        "medals2016a = medals2016a.pivot(index=\"NOC\",columns=\"Medal\",values=\"ID\")\n",
        "medals2016a = medals2016a.fillna(0)\n",
        "medals2016a = medals2016a[[\"Gold\",\"Silver\",\"Bronze\"]]\n",
        "print(medals2016a.nlargest(10,[\"Gold\",\"Silver\",\"Bronze\"]))\n"
      ]
    },
    {
      "cell_type": "code",
      "execution_count": null,
      "id": "596c49b6-80ec-435f-b97b-9d681749ccbc",
      "metadata": {
        "id": "596c49b6-80ec-435f-b97b-9d681749ccbc",
        "outputId": "88b33b60-d032-461b-a749-a2dc5a0f34e1"
      },
      "outputs": [
        {
          "name": "stdout",
          "output_type": "stream",
          "text": [
            "Medal              Gold  Silver  Bronze\n",
            "NOC Team                               \n",
            "USA United States  45.0    35.0    35.0\n",
            "GBR Great Britain  27.0    23.0    15.0\n",
            "CHN China          25.0    18.0    22.0\n",
            "RUS Russia         18.0    17.0    19.0\n",
            "GER Germany        16.0    10.0    11.0\n",
            "JPN Japan          12.0     8.0    19.0\n",
            "FRA France         10.0    18.0    13.0\n",
            "KOR South Korea     9.0     3.0     5.0\n",
            "AUS Australia       8.0    11.0    10.0\n",
            "ITA Italy           8.0    11.0     8.0\n"
          ]
        }
      ],
      "source": [
        "#Solve question here. Briefly justify your solution in the following markdown cell.\n",
        "\n",
        "medals2016 = dataDF[(dataDF[\"Year\"]==2016)&(~dataDF[\"Medal\"].isna())]\n",
        "\n",
        "# Simple solution... filter out all entries for which there are more than two equal medals for an event\n",
        "# Problem: some sports have 2 bronze medals;\n",
        "medals2016 = medals2016[[\"ID\",\"NOC\",\"Medal\",\"Event\"]].groupby([\"Medal\",\"Event\"]).first().reset_index()\n",
        "medals2016 = medals2016[[\"NOC\",\"Medal\",\"ID\"]].groupby([\"NOC\",\"Medal\"]).count().reset_index()\n",
        "medals2016 = medals2016.pivot(index=\"NOC\",columns=\"Medal\",values=\"ID\")\n",
        "medals2016 = medals2016.fillna(0)\n",
        "medals2016 = medals2016[[\"Gold\",\"Silver\",\"Bronze\"]]\n",
        "print(medals2016.nlargest(10,[\"Gold\",\"Silver\",\"Bronze\"]))\n"
      ]
    },
    {
      "cell_type": "code",
      "execution_count": null,
      "id": "d82a833f-aaf5-461b-b07e-7556eeb64e56",
      "metadata": {
        "id": "d82a833f-aaf5-461b-b07e-7556eeb64e56",
        "outputId": "211d7f7e-e252-4778-c507-896133d58b9a"
      },
      "outputs": [
        {
          "name": "stdout",
          "output_type": "stream",
          "text": [
            "Medal              Gold  Silver  Bronze\n",
            "NOC Team                               \n",
            "USA United States  45.0    35.0    35.0\n",
            "GBR Great Britain  27.0    23.0    15.0\n",
            "CHN China          25.0    18.0    22.0\n",
            "RUS Russia         18.0    17.0    19.0\n",
            "GER Germany        16.0    10.0    11.0\n",
            "JPN Japan          12.0     8.0    19.0\n",
            "FRA France         10.0    18.0    13.0\n",
            "KOR South Korea     9.0     3.0     5.0\n",
            "AUS Australia       8.0    11.0    10.0\n",
            "ITA Italy           8.0    11.0     8.0\n"
          ]
        }
      ],
      "source": [
        "#Solve question here. Briefly justify your solution in the following markdown cell.\n",
        "\n",
        "medals2016_2 = dataDF[(dataDF[\"Year\"]==2016)&(~dataDF[\"Medal\"].isna())]\n",
        "\n",
        "# Better solution... findout event that have more than 5 medals as those that are collective\n",
        "events2016 = medals2016_2[[\"Event\",\"ID\"]].groupby(\"Event\").count()\n",
        "events2016[\"TeamEvent\"] = events2016[\"ID\"] > 5\n",
        "events2016 = events2016[[\"TeamEvent\"]]\n",
        "\n",
        "medals2016_2 = medals2016_2.join( events2016, on=\"Event\")\n",
        "\n",
        "medals2016_2c = medals2016_2[medals2016_2[\"TeamEvent\"]].groupby([\"Medal\",\"Event\"]).first().reset_index()\n",
        "medals2016_2 = pd.concat([medals2016_2c,medals2016_2[~medals2016_2[\"TeamEvent\"]]])\n",
        "\n",
        "\n",
        "medals2016_2 = medals2016_2[[\"NOC\",\"Medal\",\"ID\"]].groupby([\"NOC\",\"Medal\"]).count().reset_index()\n",
        "medals2016_2 = medals2016_2.pivot(index=\"NOC\",columns=\"Medal\",values=\"ID\")\n",
        "medals2016_2 = medals2016_2.fillna(0)\n",
        "medals2016_2 = medals2016_2[[\"Gold\",\"Silver\",\"Bronze\"]]\n",
        "print(medals2016.nlargest(10,[\"Gold\",\"Silver\",\"Bronze\"]))\n"
      ]
    },
    {
      "cell_type": "markdown",
      "id": "c160a425-20ba-4609-b534-ba9343a2098d",
      "metadata": {
        "id": "c160a425-20ba-4609-b534-ba9343a2098d"
      },
      "source": [
        "**Rationale:** to be completed"
      ]
    },
    {
      "cell_type": "markdown",
      "id": "af0086f6-2db2-4a4f-8155-0562c5b5cd92",
      "metadata": {
        "id": "af0086f6-2db2-4a4f-8155-0562c5b5cd92"
      },
      "source": [
        "## Question 2 (2 points)\n",
        "\n",
        "It is normal that smaller countries conquer less medals, as their population is smaller.\n",
        "In this question, we try to put the number of medals into prespective, considering the population of countries.\n",
        "\n",
        "\n"
      ]
    },
    {
      "cell_type": "markdown",
      "id": "8505114e-6e46-4d37-8c3f-bee4ab4ae582",
      "metadata": {
        "id": "8505114e-6e46-4d37-8c3f-bee4ab4ae582"
      },
      "source": [
        "### 2.a) For the games of 2016, print the table of medals for each country per million inhabitants.\n",
        "\n"
      ]
    },
    {
      "cell_type": "code",
      "execution_count": null,
      "id": "07f6e7e6-521e-4500-83b3-33b528f99bf5",
      "metadata": {
        "id": "07f6e7e6-521e-4500-83b3-33b528f99bf5",
        "outputId": "db12c60d-796b-4f67-be8f-24812065c112"
      },
      "outputs": [
        {
          "name": "stdout",
          "output_type": "stream",
          "text": [
            "            name    Gold1M  Silver1M  Bronze1M\n",
            "BHS      Bahamas  2.525406  0.000000  2.525406\n",
            "JAM      Jamaica  2.140797  1.070398  0.713599\n",
            "HRV      Croatia  1.183782  0.710269  0.473513\n",
            "FJI         Fiji  1.088885  0.000000  0.000000\n",
            "NZL  New Zealand  0.856883  1.927987  1.071104\n",
            "HUN      Hungary  0.815070  0.305651  0.407535\n",
            "BHR      Bahrain  0.709390  0.709390  0.000000\n",
            "GEO      Georgia  0.530348  0.265174  1.060696\n",
            "SVN     Slovenia  0.478464  0.956929  0.478464\n",
            "NLD  Netherlands  0.467167  0.408771  0.233583\n"
          ]
        }
      ],
      "source": [
        "#Solve question here. Add a Markdown cell after this cell if you want to add some comment on you solution.\n",
        "\n",
        "#NOTE: using inner has there is no benefit of keeping incomplete lines\n",
        "populationDF[\"geo\"]=populationDF[\"geo\"].str.upper()\n",
        "population2016DF = populationDF[populationDF[\"time\"]==2016]\n",
        "medalsPerMillion = medals2016_2.join(codesDF.set_index(\"IOC\"),how=\"inner\").set_index(\"ISO3\")\\\n",
        "                            .join(population2016DF.set_index(\"geo\"),how=\"inner\")\n",
        "medalsPerMillion[\"Gold1M\"] = medalsPerMillion[\"Gold\"] / (medalsPerMillion[\"Population\"] / 1000000)\n",
        "medalsPerMillion[\"Silver1M\"] = medalsPerMillion[\"Silver\"] / (medalsPerMillion[\"Population\"] / 1000000)\n",
        "medalsPerMillion[\"Bronze1M\"] = medalsPerMillion[\"Bronze\"] / (medalsPerMillion[\"Population\"] / 1000000)\n",
        "medalsPerMillion = medalsPerMillion[[\"name\",\"Gold1M\",\"Silver1M\",\"Bronze1M\"]]\n",
        "print(medalsPerMillion.nlargest(10,[\"Gold1M\",\"Silver1M\",\"Bronze1M\"]))\n"
      ]
    },
    {
      "cell_type": "markdown",
      "id": "be74d891",
      "metadata": {
        "id": "be74d891"
      },
      "source": [
        "## Question 3 (4 points)\n",
        "\n",
        "This third question focus on processing the information on a time series for plotting it.\n"
      ]
    },
    {
      "cell_type": "code",
      "execution_count": null,
      "id": "bb880c9f-d695-4f45-953b-c9b1007d3b14",
      "metadata": {
        "id": "bb880c9f-d695-4f45-953b-c9b1007d3b14",
        "outputId": "653c3393-f04f-425c-b9c2-ae21ec28c87a"
      },
      "outputs": [
        {
          "name": "stdout",
          "output_type": "stream",
          "text": [
            "         Medal                                          Event      ID   \n",
            "0       Bronze  Archery Men's Target Archery, 28 metres, Team   15721  \\\n",
            "1       Bronze                             Archery Men's Team   11799   \n",
            "2       Bronze                       Archery Men's Team Round   15893   \n",
            "3       Bronze                           Archery Women's Team    5233   \n",
            "4       Bronze      Athletics Men's 1,600 metres Medley Relay   12639   \n",
            "...        ...                                            ...     ...   \n",
            "271010  Silver                Weightlifting Men's Lightweight  135521   \n",
            "271032  Bronze                      Judo Women's Middleweight  135535   \n",
            "271076    Gold                     Athletics Women's Shot Put  135553   \n",
            "271078  Silver                     Athletics Women's Shot Put  135553   \n",
            "271080  Bronze                     Athletics Women's Shot Put  135553   \n",
            "\n",
            "                                       Name Sex   Age  Height  Weight   \n",
            "0                         Julien Louis Brul   M  44.0     NaN     NaN  \\\n",
            "1                            Matteo Bisiani   M  19.0   184.0    85.0   \n",
            "2               George Philip \"Phil\" Bryant   M  26.0   169.0     NaN   \n",
            "3                           Virginie Arnold   F  28.0   155.0    50.0   \n",
            "4                        dn Bodor (Krausz-)   M  26.0   182.0    70.0   \n",
            "...                                     ...  ..   ...     ...     ...   \n",
            "271010                        Anton Zwerina   M  23.0     NaN    66.0   \n",
            "271032            Claudia Antoinette Zwiers   F  22.0   181.0    78.0   \n",
            "271076  Galina Ivanovna Zybina (-Fyodorova)   F  21.0   168.0    80.0   \n",
            "271078  Galina Ivanovna Zybina (-Fyodorova)   F  25.0   168.0    80.0   \n",
            "271080  Galina Ivanovna Zybina (-Fyodorova)   F  33.0   168.0    80.0   \n",
            "\n",
            "                  Team  NOC        Games  Year  Season       City   \n",
            "0               France  FRA  1920 Summer  1920  Summer  Antwerpen  \\\n",
            "1                Italy  ITA  1996 Summer  1996  Summer    Atlanta   \n",
            "2       Boston Archers  USA  1904 Summer  1904  Summer  St. Louis   \n",
            "3               France  FRA  2008 Summer  2008  Summer    Beijing   \n",
            "4              Hungary  HUN  1908 Summer  1908  Summer     London   \n",
            "...                ...  ...          ...   ...     ...        ...   \n",
            "271010         Austria  AUT  1924 Summer  1924  Summer      Paris   \n",
            "271032     Netherlands  NED  1996 Summer  1996  Summer    Atlanta   \n",
            "271076    Soviet Union  URS  1952 Summer  1952  Summer   Helsinki   \n",
            "271078    Soviet Union  URS  1956 Summer  1956  Summer  Melbourne   \n",
            "271080    Soviet Union  URS  1964 Summer  1964  Summer      Tokyo   \n",
            "\n",
            "                Sport  TeamEvent  \n",
            "0             Archery       True  \n",
            "1             Archery       True  \n",
            "2             Archery       True  \n",
            "3             Archery       True  \n",
            "4           Athletics       True  \n",
            "...               ...        ...  \n",
            "271010  Weightlifting      False  \n",
            "271032           Judo      False  \n",
            "271076      Athletics      False  \n",
            "271078      Athletics      False  \n",
            "271080      Athletics      False  \n",
            "\n",
            "[14891 rows x 16 columns]\n"
          ]
        }
      ],
      "source": [
        "# will create a dataframe with medals per country in each edition\n",
        "# excluding duplicates\n",
        "\n",
        "# students are not graded by the quality of solution here, but\n",
        "# they should not use base data directly\n",
        "\n",
        "\n",
        "medalsAll = dataDF[(~dataDF[\"Medal\"].isna())]\n",
        "\n",
        "# Better solution... findout event that have more than 5 medals as those that are collective\n",
        "events = medalsAll[[\"Event\",\"Year\",\"ID\"]].groupby([\"Event\",\"Year\"]).count()\n",
        "events[\"TeamEvent\"] = events[\"ID\"] > 5\n",
        "events = events[[\"TeamEvent\"]]\n",
        "\n",
        "medalsAll = medalsAll.join( events, on=[\"Event\",\"Year\"])\n",
        "\n",
        "medalsNoDup = medalsAll[medalsAll[\"TeamEvent\"]].groupby([\"Medal\",\"Event\"]).first().reset_index()\n",
        "medalsNoDup = pd.concat([medalsNoDup,medalsAll[~medalsAll[\"TeamEvent\"]]])\n",
        "\n"
      ]
    },
    {
      "cell_type": "markdown",
      "id": "31f4e0f9",
      "metadata": {
        "id": "31f4e0f9"
      },
      "source": [
        "### 3.a) Display the information about the number of athletes and medals wons by a country in the Olympic games over the years.\n",
        "\n",
        "Select a country that has a significative number of medals and plot the results.\n",
        "Discuss the rationale of your solution, including why you have decided to show the lines you are presenting and any processing you have done to the lines.\n"
      ]
    },
    {
      "cell_type": "code",
      "execution_count": null,
      "id": "5bbd0447",
      "metadata": {
        "id": "5bbd0447",
        "outputId": "201d6f61-924f-4b81-886e-9a6e720ca26b"
      },
      "outputs": [
        {
          "data": {
            "text/plain": [
              "<AxesSubplot: title={'center': 'Winter games'}, xlabel='Year'>"
            ]
          },
          "execution_count": 110,
          "metadata": {},
          "output_type": "execute_result"
        },
        {
          "data": {
            "image/png": "[encoded data removed]",
            "text/plain": [
              "<Figure size 432x288 with 2 Axes>"
            ]
          },
          "metadata": {
            "needs_background": "light"
          },
          "output_type": "display_data"
        },
        {
          "data": {
            "image/png": "[encoded data removed]",
            "text/plain": [
              "<Figure size 432x288 with 2 Axes>"
            ]
          },
          "metadata": {
            "needs_background": "light"
          },
          "output_type": "display_data"
        }
      ],
      "source": [
        "#Solve question here. Briefly justify your solution in the following markdown cell.\n",
        "\n",
        "country = \"AUS\"\n",
        "\n",
        "\n",
        "result = dataDF[dataDF[\"NOC\"]==country][[\"Year\",\"Season\",\"ID\"]]\\\n",
        "                    .groupby([\"Season\",\"Year\"]).count()\\\n",
        "                    .rename(columns={\"ID\": \"Athletes\"})\n",
        "result = result.join( medalsNoDup[medalsNoDup[\"NOC\"]==country][[\"Year\",\"Season\",\"ID\"]]\\\n",
        "                    .groupby([\"Season\",\"Year\"]).count()\\\n",
        "                    .rename(columns={\"ID\": \"Medals\"}))\n",
        "result = result.reset_index()\n",
        "result[result[\"Season\"]==\"Summer\"].plot(x=\"Year\",y=[\"Athletes\",\"Medals\"],secondary_y=\"Medals\",title=\"Summer games\")\n",
        "result[result[\"Season\"]==\"Winter\"].plot(x=\"Year\",y=[\"Athletes\",\"Medals\"],secondary_y=\"Medals\",title=\"Winter games\")\n"
      ]
    },
    {
      "cell_type": "markdown",
      "id": "c8433152",
      "metadata": {
        "id": "c8433152"
      },
      "source": [
        "**Rationale:** to be completed"
      ]
    },
    {
      "cell_type": "markdown",
      "id": "01276dcc",
      "metadata": {
        "id": "01276dcc"
      },
      "source": [
        "### 3.b) Display trends of athletes and medals for a given country.\n",
        "\n",
        "There might be some editions that are an outlier in the number of athletes or medals a given country wins. Instead of plotting the actual values, plot trend lines.\n",
        "\n"
      ]
    },
    {
      "cell_type": "code",
      "execution_count": null,
      "id": "4f043c32",
      "metadata": {
        "id": "4f043c32",
        "outputId": "bca0e8aa-ec2e-4ef7-a46d-8177c9180203"
      },
      "outputs": [
        {
          "data": {
            "text/plain": [
              "<AxesSubplot: title={'center': 'Winter games'}, xlabel='Year'>"
            ]
          },
          "execution_count": 109,
          "metadata": {},
          "output_type": "execute_result"
        },
        {
          "data": {
            "image/png": "[encoded data removed]",
            "text/plain": [
              "<Figure size 432x288 with 2 Axes>"
            ]
          },
          "metadata": {
            "needs_background": "light"
          },
          "output_type": "display_data"
        },
        {
          "data": {
            "image/png": "[encoded data removed]",
            "text/plain": [
              "<Figure size 432x288 with 2 Axes>"
            ]
          },
          "metadata": {
            "needs_background": "light"
          },
          "output_type": "display_data"
        }
      ],
      "source": [
        "#Solve question here. Briefly justy you solution in the following markdown cell.\n",
        "\n",
        "summerMA = result[result[\"Season\"]==\"Summer\"][[\"Year\",\"Athletes\",\"Medals\"]].set_index(\"Year\").rolling(4).mean()\n",
        "summerMA.plot(y=[\"Athletes\",\"Medals\"],secondary_y=\"Medals\",title=\"Summer games\")\n",
        "\n",
        "\n",
        "winterMA = result[result[\"Season\"]==\"Winter\"][[\"Year\",\"Athletes\",\"Medals\"]].set_index(\"Year\").rolling(4).mean()\n",
        "winterMA.plot(y=[\"Athletes\",\"Medals\"],secondary_y=\"Medals\",title=\"Winter games\")\n",
        "\n"
      ]
    },
    {
      "cell_type": "markdown",
      "id": "efe5d2c9",
      "metadata": {
        "id": "efe5d2c9"
      },
      "source": [
        "**Rationale:** to be completed"
      ]
    },
    {
      "cell_type": "markdown",
      "id": "4ec118ad",
      "metadata": {
        "id": "4ec118ad"
      },
      "source": [
        "## Question 4 (5 points)\n",
        "\n",
        "This third question focus on understanding the relations between elements.\n",
        "\n",
        "\n",
        "### 4.a) Is there any relation between the medals won by different countries?\n",
        "\n",
        "Study the relation in the evolution of medals won by different countries over the years.\n",
        "\n",
        "Select four countries with a significative number of medals.\n",
        "\n",
        "Note: Some useful\n",
        "* Drop columns - [https://pandas.pydata.org/docs/reference/api/pandas.DataFrame.drop.html](https://pandas.pydata.org/docs/reference/api/pandas.DataFrame.drop.html)\n",
        "* Rename columns - [https://pandas.pydata.org/docs/reference/api/pandas.DataFrame.rename.html](https://pandas.pydata.org/docs/reference/api/pandas.DataFrame.rename.html)\n"
      ]
    },
    {
      "cell_type": "code",
      "execution_count": null,
      "id": "14690231",
      "metadata": {
        "scrolled": true,
        "tags": [],
        "id": "14690231",
        "outputId": "b71ae5dc-68f5-4607-9c48-c467d28c5440"
      },
      "outputs": [
        {
          "name": "stdout",
          "output_type": "stream",
          "text": [
            "NOC       CHN       FRA       GBR       USA\n",
            "NOC                                        \n",
            "CHN  1.000000  0.264795  0.216095  0.200244\n",
            "FRA  0.264795  1.000000  0.205328 -0.146123\n",
            "GBR  0.216095  0.205328  1.000000 -0.105180\n",
            "USA  0.200244 -0.146123 -0.105180  1.000000\n"
          ]
        }
      ],
      "source": [
        "#Solve question here. Briefly justify your solution in the following markdown cell.\n",
        "\n",
        "countriesMedals = medalsNoDup[(medalsNoDup[\"Season\"]==\"Summer\")&(medalsNoDup[\"NOC\"].isin([\"USA\",\"CHN\",\"GBR\",\"FRA\"]))]\\\n",
        "                [[\"NOC\",\"Medal\",\"Year\"]]\\\n",
        "                .groupby([\"NOC\",\"Year\"]).count().reset_index()\n",
        "\n",
        "countriesMedals = countriesMedals.pivot(index=\"Year\",columns=\"NOC\",values=\"Medal\")\n",
        "countriesMedals = countriesMedals.fillna(0)\n",
        "\n",
        "print(countriesMedals.corr())\n"
      ]
    },
    {
      "cell_type": "code",
      "execution_count": null,
      "id": "a599c91b-0423-4cd3-87c3-b525c876133e",
      "metadata": {
        "scrolled": true,
        "tags": [],
        "id": "a599c91b-0423-4cd3-87c3-b525c876133e",
        "outputId": "03353027-2964-4a48-c917-dec49c6db593"
      },
      "outputs": [
        {
          "name": "stdout",
          "output_type": "stream",
          "text": [
            "NOC       CHN       FRA       GBR       USA\n",
            "NOC                                        \n",
            "CHN  1.000000  0.099755  0.247132  0.110191\n",
            "FRA  0.099755  1.000000  0.121020 -0.206567\n",
            "GBR  0.247132  0.121020  1.000000 -0.080755\n",
            "USA  0.110191 -0.206567 -0.080755  1.000000\n"
          ]
        }
      ],
      "source": [
        "#Solve question here. Briefly justify your solution in the following markdown cell.\n",
        "\n",
        "countriesGold = medalsNoDup[(medalsNoDup[\"Season\"]==\"Summer\")&(medalsNoDup[\"Medal\"]==\"Gold\")&\\\n",
        "                            (medalsNoDup[\"NOC\"].isin([\"USA\",\"CHN\",\"GBR\",\"FRA\"]))]\\\n",
        "                [[\"NOC\",\"Medal\",\"Year\"]]\\\n",
        "                .groupby([\"NOC\",\"Year\"]).count().reset_index()\n",
        "\n",
        "countriesGold = countriesGold.pivot(index=\"Year\",columns=\"NOC\",values=\"Medal\")\n",
        "countriesGold = countriesGold.fillna(0)\n",
        "\n",
        "print(countriesGold.corr())\n"
      ]
    },
    {
      "cell_type": "markdown",
      "id": "ab5cd6ab",
      "metadata": {
        "id": "ab5cd6ab"
      },
      "source": [
        "**Present an interpretation of the results here:** to be completed"
      ]
    },
    {
      "cell_type": "markdown",
      "id": "2cc26b25",
      "metadata": {
        "id": "2cc26b25"
      },
      "source": [
        "### 4.b) Extended analysis\n",
        "\n",
        "As medals are competitive, one could expect that the fact that some countries starts winning more medals leads other countries to win less medals. But this would only be true if the total number of medals would have remained constant.\n",
        "\n",
        "Suggest an alternative analysis and implement it.\n",
        "\n"
      ]
    },
    {
      "cell_type": "markdown",
      "id": "91fd2234-157d-4009-af7e-acf08c3c2a8c",
      "metadata": {
        "id": "91fd2234-157d-4009-af7e-acf08c3c2a8c"
      },
      "source": [
        "**Analysis proposed:**\n",
        "\n",
        "\n",
        "**Rationale of implementation:**"
      ]
    },
    {
      "cell_type": "code",
      "execution_count": null,
      "id": "6b3f90b4",
      "metadata": {
        "scrolled": true,
        "id": "6b3f90b4",
        "outputId": "eee9e0ce-9476-40f3-b4fd-a46ba034dfae"
      },
      "outputs": [
        {
          "name": "stdout",
          "output_type": "stream",
          "text": [
            "          CHNpct    FRApct    GBRpct    USApct\n",
            "CHNpct  1.000000 -0.173537 -0.159590 -0.295325\n",
            "FRApct -0.173537  1.000000  0.255351 -0.049323\n",
            "GBRpct -0.159590  0.255351  1.000000 -0.063238\n",
            "USApct -0.295325 -0.049323 -0.063238  1.000000\n"
          ]
        }
      ],
      "source": [
        "#Solve question here. Briefly justify your solution in the following markdown cell.\n",
        "\n",
        "# Instead of using global values, let's use fraction of medals\n",
        "\n",
        "countriesMedalsPct = medalsNoDup[(medalsNoDup[\"Season\"]==\"Summer\")&(medalsNoDup[\"NOC\"].isin([\"USA\",\"CHN\",\"GBR\",\"FRA\"]))]\\\n",
        "                [[\"NOC\",\"Medal\",\"Year\"]]\\\n",
        "                .groupby([\"NOC\",\"Year\"]).count().reset_index()\n",
        "\n",
        "\n",
        "countriesMedalsPct = countriesMedalsPct.pivot(index=\"Year\",columns=\"NOC\",values=\"Medal\")\n",
        "countriesMedalsPct = countriesMedalsPct.fillna(0)\n",
        "countriesMedalsPct = countriesMedalsPct.join( medalsNoDup[medalsNoDup[\"Season\"]==\"Summer\"][[\"Year\",\"ID\"]]\\\n",
        "                                             .groupby(\"Year\").count().rename(columns={\"ID\":\"Total\"}))\n",
        "countriesMedalsPct[\"CHNpct\"]=countriesMedalsPct[\"CHN\"]/countriesMedalsPct[\"Total\"]\n",
        "countriesMedalsPct[\"FRApct\"]=countriesMedalsPct[\"FRA\"]/countriesMedalsPct[\"Total\"]\n",
        "countriesMedalsPct[\"GBRpct\"]=countriesMedalsPct[\"GBR\"]/countriesMedalsPct[\"Total\"]\n",
        "countriesMedalsPct[\"USApct\"]=countriesMedalsPct[\"USA\"]/countriesMedalsPct[\"Total\"]\n",
        "countriesMedalsPct=countriesMedalsPct[[\"CHNpct\",\"FRApct\",\"GBRpct\",\"USApct\"]]\n",
        "\n",
        "print(countriesMedalsPct.corr())\n",
        "\n"
      ]
    },
    {
      "cell_type": "markdown",
      "id": "4b68ed0f",
      "metadata": {
        "id": "4b68ed0f"
      },
      "source": [
        "**Rationale and comments:**"
      ]
    },
    {
      "cell_type": "markdown",
      "id": "9463e587",
      "metadata": {
        "id": "9463e587"
      },
      "source": [
        "## Question 5 (2 points)\n",
        "\n",
        "This group focus on implementation using Spark SQL."
      ]
    },
    {
      "cell_type": "code",
      "execution_count": 2,
      "id": "ef42fe3b-289a-4081-bf2a-c93159d970c9",
      "metadata": {
        "colab": {
          "base_uri": "https://localhost:8080/"
        },
        "id": "ef42fe3b-289a-4081-bf2a-c93159d970c9",
        "outputId": "44dde460-3c66-406d-9814-3b203e5a4406"
      },
      "outputs": [
        {
          "output_type": "stream",
          "name": "stdout",
          "text": [
            "Reading package lists... Done\n",
            "Building dependency tree... Done\n",
            "Reading state information... Done\n",
            "The following additional packages will be installed:\n",
            "  openjdk-17-jre-headless\n",
            "Suggested packages:\n",
            "  openjdk-17-demo openjdk-17-source libnss-mdns fonts-dejavu-extra\n",
            "  fonts-ipafont-gothic fonts-ipafont-mincho fonts-wqy-microhei\n",
            "  | fonts-wqy-zenhei fonts-indic\n",
            "The following NEW packages will be installed:\n",
            "  openjdk-17-jdk-headless openjdk-17-jre-headless\n",
            "0 upgraded, 2 newly installed, 0 to remove and 18 not upgraded.\n",
            "Need to get 119 MB of archives.\n",
            "After this operation, 271 MB of additional disk space will be used.\n",
            "Get:1 http://archive.ubuntu.com/ubuntu jammy-updates/universe amd64 openjdk-17-jre-headless amd64 17.0.8.1+1~us1-0ubuntu1~22.04 [48.3 MB]\n",
            "Get:2 http://archive.ubuntu.com/ubuntu jammy-updates/universe amd64 openjdk-17-jdk-headless amd64 17.0.8.1+1~us1-0ubuntu1~22.04 [71.1 MB]\n",
            "Fetched 119 MB in 11s (11.2 MB/s)\n",
            "Selecting previously unselected package openjdk-17-jre-headless:amd64.\n",
            "(Reading database ... 120895 files and directories currently installed.)\n",
            "Preparing to unpack .../openjdk-17-jre-headless_17.0.8.1+1~us1-0ubuntu1~22.04_amd64.deb ...\n",
            "Unpacking openjdk-17-jre-headless:amd64 (17.0.8.1+1~us1-0ubuntu1~22.04) ...\n",
            "Selecting previously unselected package openjdk-17-jdk-headless:amd64.\n",
            "Preparing to unpack .../openjdk-17-jdk-headless_17.0.8.1+1~us1-0ubuntu1~22.04_amd64.deb ...\n",
            "Unpacking openjdk-17-jdk-headless:amd64 (17.0.8.1+1~us1-0ubuntu1~22.04) ...\n",
            "Setting up openjdk-17-jre-headless:amd64 (17.0.8.1+1~us1-0ubuntu1~22.04) ...\n",
            "update-alternatives: using /usr/lib/jvm/java-17-openjdk-amd64/bin/java to provide /usr/bin/java (java) in auto mode\n",
            "update-alternatives: using /usr/lib/jvm/java-17-openjdk-amd64/bin/jpackage to provide /usr/bin/jpackage (jpackage) in auto mode\n",
            "update-alternatives: using /usr/lib/jvm/java-17-openjdk-amd64/bin/keytool to provide /usr/bin/keytool (keytool) in auto mode\n",
            "update-alternatives: using /usr/lib/jvm/java-17-openjdk-amd64/bin/rmiregistry to provide /usr/bin/rmiregistry (rmiregistry) in auto mode\n",
            "update-alternatives: using /usr/lib/jvm/java-17-openjdk-amd64/lib/jexec to provide /usr/bin/jexec (jexec) in auto mode\n",
            "Setting up openjdk-17-jdk-headless:amd64 (17.0.8.1+1~us1-0ubuntu1~22.04) ...\n",
            "update-alternatives: using /usr/lib/jvm/java-17-openjdk-amd64/bin/jar to provide /usr/bin/jar (jar) in auto mode\n",
            "update-alternatives: using /usr/lib/jvm/java-17-openjdk-amd64/bin/jarsigner to provide /usr/bin/jarsigner (jarsigner) in auto mode\n",
            "update-alternatives: using /usr/lib/jvm/java-17-openjdk-amd64/bin/javac to provide /usr/bin/javac (javac) in auto mode\n",
            "update-alternatives: using /usr/lib/jvm/java-17-openjdk-amd64/bin/javadoc to provide /usr/bin/javadoc (javadoc) in auto mode\n",
            "update-alternatives: using /usr/lib/jvm/java-17-openjdk-amd64/bin/javap to provide /usr/bin/javap (javap) in auto mode\n",
            "update-alternatives: using /usr/lib/jvm/java-17-openjdk-amd64/bin/jcmd to provide /usr/bin/jcmd (jcmd) in auto mode\n",
            "update-alternatives: using /usr/lib/jvm/java-17-openjdk-amd64/bin/jdb to provide /usr/bin/jdb (jdb) in auto mode\n",
            "update-alternatives: using /usr/lib/jvm/java-17-openjdk-amd64/bin/jdeprscan to provide /usr/bin/jdeprscan (jdeprscan) in auto mode\n",
            "update-alternatives: using /usr/lib/jvm/java-17-openjdk-amd64/bin/jdeps to provide /usr/bin/jdeps (jdeps) in auto mode\n",
            "update-alternatives: using /usr/lib/jvm/java-17-openjdk-amd64/bin/jfr to provide /usr/bin/jfr (jfr) in auto mode\n",
            "update-alternatives: using /usr/lib/jvm/java-17-openjdk-amd64/bin/jimage to provide /usr/bin/jimage (jimage) in auto mode\n",
            "update-alternatives: using /usr/lib/jvm/java-17-openjdk-amd64/bin/jinfo to provide /usr/bin/jinfo (jinfo) in auto mode\n",
            "update-alternatives: using /usr/lib/jvm/java-17-openjdk-amd64/bin/jlink to provide /usr/bin/jlink (jlink) in auto mode\n",
            "update-alternatives: using /usr/lib/jvm/java-17-openjdk-amd64/bin/jmap to provide /usr/bin/jmap (jmap) in auto mode\n",
            "update-alternatives: using /usr/lib/jvm/java-17-openjdk-amd64/bin/jmod to provide /usr/bin/jmod (jmod) in auto mode\n",
            "update-alternatives: using /usr/lib/jvm/java-17-openjdk-amd64/bin/jps to provide /usr/bin/jps (jps) in auto mode\n",
            "update-alternatives: using /usr/lib/jvm/java-17-openjdk-amd64/bin/jrunscript to provide /usr/bin/jrunscript (jrunscript) in auto mode\n",
            "update-alternatives: using /usr/lib/jvm/java-17-openjdk-amd64/bin/jshell to provide /usr/bin/jshell (jshell) in auto mode\n",
            "update-alternatives: using /usr/lib/jvm/java-17-openjdk-amd64/bin/jstack to provide /usr/bin/jstack (jstack) in auto mode\n",
            "update-alternatives: using /usr/lib/jvm/java-17-openjdk-amd64/bin/jstat to provide /usr/bin/jstat (jstat) in auto mode\n",
            "update-alternatives: using /usr/lib/jvm/java-17-openjdk-amd64/bin/jstatd to provide /usr/bin/jstatd (jstatd) in auto mode\n",
            "update-alternatives: using /usr/lib/jvm/java-17-openjdk-amd64/bin/serialver to provide /usr/bin/serialver (serialver) in auto mode\n",
            "update-alternatives: using /usr/lib/jvm/java-17-openjdk-amd64/bin/jhsdb to provide /usr/bin/jhsdb (jhsdb) in auto mode\n",
            "Collecting pyspark\n",
            "  Downloading pyspark-3.5.0.tar.gz (316.9 MB)\n",
            "\u001b[2K     \u001b[90m━━━━━━━━━━━━━━━━━━━━━━━━━━━━━━━━━━━━━━━\u001b[0m \u001b[32m316.9/316.9 MB\u001b[0m \u001b[31m1.3 MB/s\u001b[0m eta \u001b[36m0:00:00\u001b[0m\n",
            "\u001b[?25h  Preparing metadata (setup.py) ... \u001b[?25l\u001b[?25hdone\n",
            "Requirement already satisfied: py4j==0.10.9.7 in /usr/local/lib/python3.10/dist-packages (from pyspark) (0.10.9.7)\n",
            "Building wheels for collected packages: pyspark\n",
            "  Building wheel for pyspark (setup.py) ... \u001b[?25l\u001b[?25hdone\n",
            "  Created wheel for pyspark: filename=pyspark-3.5.0-py2.py3-none-any.whl size=317425344 sha256=eeb752f468596a6d9d3cc6d011312490d6010c4ac6152f2395de068a47cebbb8\n",
            "  Stored in directory: /root/.cache/pip/wheels/41/4e/10/c2cf2467f71c678cfc8a6b9ac9241e5e44a01940da8fbb17fc\n",
            "Successfully built pyspark\n",
            "Installing collected packages: pyspark\n",
            "Successfully installed pyspark-3.5.0\n",
            "Requirement already satisfied: gdown in /usr/local/lib/python3.10/dist-packages (4.6.6)\n",
            "Requirement already satisfied: filelock in /usr/local/lib/python3.10/dist-packages (from gdown) (3.12.2)\n",
            "Requirement already satisfied: requests[socks] in /usr/local/lib/python3.10/dist-packages (from gdown) (2.31.0)\n",
            "Requirement already satisfied: six in /usr/local/lib/python3.10/dist-packages (from gdown) (1.16.0)\n",
            "Requirement already satisfied: tqdm in /usr/local/lib/python3.10/dist-packages (from gdown) (4.66.1)\n",
            "Requirement already satisfied: beautifulsoup4 in /usr/local/lib/python3.10/dist-packages (from gdown) (4.11.2)\n",
            "Requirement already satisfied: soupsieve>1.2 in /usr/local/lib/python3.10/dist-packages (from beautifulsoup4->gdown) (2.5)\n",
            "Requirement already satisfied: charset-normalizer<4,>=2 in /usr/local/lib/python3.10/dist-packages (from requests[socks]->gdown) (3.2.0)\n",
            "Requirement already satisfied: idna<4,>=2.5 in /usr/local/lib/python3.10/dist-packages (from requests[socks]->gdown) (3.4)\n",
            "Requirement already satisfied: urllib3<3,>=1.21.1 in /usr/local/lib/python3.10/dist-packages (from requests[socks]->gdown) (2.0.4)\n",
            "Requirement already satisfied: certifi>=2017.4.17 in /usr/local/lib/python3.10/dist-packages (from requests[socks]->gdown) (2023.7.22)\n",
            "Requirement already satisfied: PySocks!=1.5.7,>=1.5.6 in /usr/local/lib/python3.10/dist-packages (from requests[socks]->gdown) (1.7.1)\n",
            "Downloading...\n",
            "From: https://drive.google.com/uc?id=1FXFeLvuT5tN0S-7ay5T7sFAMv9BjwO_H\n",
            "To: /content/athlete_events.csv\n",
            "100% 41.5M/41.5M [00:01<00:00, 36.3MB/s]\n"
          ]
        }
      ],
      "source": [
        "!apt-get install openjdk-17-jdk-headless\n",
        "!pip install pyspark\n",
        "!pip install gdown\n",
        "!gdown 'https://drive.google.com/uc?id=1FXFeLvuT5tN0S-7ay5T7sFAMv9BjwO_H'\n"
      ]
    },
    {
      "cell_type": "code",
      "execution_count": 3,
      "id": "71a01155-7218-461f-b707-a4727533c4f7",
      "metadata": {
        "colab": {
          "base_uri": "https://localhost:8080/"
        },
        "id": "71a01155-7218-461f-b707-a4727533c4f7",
        "outputId": "5cee5583-de47-41a4-c381-5fe3f72fa5bf"
      },
      "outputs": [
        {
          "output_type": "stream",
          "name": "stdout",
          "text": [
            "+---+--------------------+---+---+------+------+--------------+---+-----------+----+------+-----------+--------------------+--------------------+-----+\n",
            "| ID|                Name|Sex|Age|Height|Weight|          Team|NOC|      Games|Year|Season|       City|               Sport|               Event|Medal|\n",
            "+---+--------------------+---+---+------+------+--------------+---+-----------+----+------+-----------+--------------------+--------------------+-----+\n",
            "|  1|           A Dijiang|  M| 24|   180|    80|         China|CHN|1992 Summer|1992|Summer|  Barcelona|          Basketball|Basketball Men's ...|   NA|\n",
            "|  2|            A Lamusi|  M| 23|   170|    60|         China|CHN|2012 Summer|2012|Summer|     London|                Judo|Judo Men's Extra-...|   NA|\n",
            "|  3| Gunnar Nielsen Aaby|  M| 24|    NA|    NA|       Denmark|DEN|1920 Summer|1920|Summer|  Antwerpen|            Football|Football Men's Fo...|   NA|\n",
            "|  4|Edgar Lindenau Aabye|  M| 34|    NA|    NA|Denmark/Sweden|DEN|1900 Summer|1900|Summer|      Paris|          Tug-Of-War|Tug-Of-War Men's ...| Gold|\n",
            "|  5|Christine Jacoba ...|  F| 21|   185|    82|   Netherlands|NED|1988 Winter|1988|Winter|    Calgary|       Speed Skating|Speed Skating Wom...|   NA|\n",
            "|  5|Christine Jacoba ...|  F| 21|   185|    82|   Netherlands|NED|1988 Winter|1988|Winter|    Calgary|       Speed Skating|Speed Skating Wom...|   NA|\n",
            "|  5|Christine Jacoba ...|  F| 25|   185|    82|   Netherlands|NED|1992 Winter|1992|Winter|Albertville|       Speed Skating|Speed Skating Wom...|   NA|\n",
            "|  5|Christine Jacoba ...|  F| 25|   185|    82|   Netherlands|NED|1992 Winter|1992|Winter|Albertville|       Speed Skating|Speed Skating Wom...|   NA|\n",
            "|  5|Christine Jacoba ...|  F| 27|   185|    82|   Netherlands|NED|1994 Winter|1994|Winter|Lillehammer|       Speed Skating|Speed Skating Wom...|   NA|\n",
            "|  5|Christine Jacoba ...|  F| 27|   185|    82|   Netherlands|NED|1994 Winter|1994|Winter|Lillehammer|       Speed Skating|Speed Skating Wom...|   NA|\n",
            "|  6|     Per Knut Aaland|  M| 31|   188|    75| United States|USA|1992 Winter|1992|Winter|Albertville|Cross Country Skiing|Cross Country Ski...|   NA|\n",
            "|  6|     Per Knut Aaland|  M| 31|   188|    75| United States|USA|1992 Winter|1992|Winter|Albertville|Cross Country Skiing|Cross Country Ski...|   NA|\n",
            "|  6|     Per Knut Aaland|  M| 31|   188|    75| United States|USA|1992 Winter|1992|Winter|Albertville|Cross Country Skiing|Cross Country Ski...|   NA|\n",
            "|  6|     Per Knut Aaland|  M| 31|   188|    75| United States|USA|1992 Winter|1992|Winter|Albertville|Cross Country Skiing|Cross Country Ski...|   NA|\n",
            "|  6|     Per Knut Aaland|  M| 33|   188|    75| United States|USA|1994 Winter|1994|Winter|Lillehammer|Cross Country Skiing|Cross Country Ski...|   NA|\n",
            "|  6|     Per Knut Aaland|  M| 33|   188|    75| United States|USA|1994 Winter|1994|Winter|Lillehammer|Cross Country Skiing|Cross Country Ski...|   NA|\n",
            "|  6|     Per Knut Aaland|  M| 33|   188|    75| United States|USA|1994 Winter|1994|Winter|Lillehammer|Cross Country Skiing|Cross Country Ski...|   NA|\n",
            "|  6|     Per Knut Aaland|  M| 33|   188|    75| United States|USA|1994 Winter|1994|Winter|Lillehammer|Cross Country Skiing|Cross Country Ski...|   NA|\n",
            "|  7|        John Aalberg|  M| 31|   183|    72| United States|USA|1992 Winter|1992|Winter|Albertville|Cross Country Skiing|Cross Country Ski...|   NA|\n",
            "|  7|        John Aalberg|  M| 31|   183|    72| United States|USA|1992 Winter|1992|Winter|Albertville|Cross Country Skiing|Cross Country Ski...|   NA|\n",
            "+---+--------------------+---+---+------+------+--------------+---+-----------+----+------+-----------+--------------------+--------------------+-----+\n",
            "only showing top 20 rows\n",
            "\n"
          ]
        }
      ],
      "source": [
        "import pyspark\n",
        "from pyspark.sql import SparkSession\n",
        "from pyspark.sql.types import *\n",
        "from pyspark.sql.functions import *\n",
        "\n",
        "spark = SparkSession.builder \\\n",
        ".master(\"local\") \\\n",
        ".appName(\"Simple test\") \\\n",
        ".config(\"spark.sql.execution.arrow.pyspark.enabled\", \"true\") \\\n",
        ".getOrCreate()\n",
        "\n",
        "atFilename = \"athlete_events.csv\"\n",
        "\n",
        "# Read a CSV file into a DataFrame\n",
        "df = spark.read.option(\"header\", True).option(\"inferSchema\",True).csv(atFilename)\n",
        "df.createOrReplaceTempView(\"data\")\n"
      ]
    },
    {
      "cell_type": "markdown",
      "id": "a14830b1",
      "metadata": {
        "id": "a14830b1"
      },
      "source": [
        "### 5.a) Reimplement question 1.e in Spark SQL.\n"
      ]
    },
    {
      "cell_type": "code",
      "execution_count": 22,
      "id": "383a8a0f",
      "metadata": {
        "colab": {
          "base_uri": "https://localhost:8080/"
        },
        "id": "383a8a0f",
        "outputId": "a738590c-9f1a-47c4-a066-375d1bdde823"
      },
      "outputs": [
        {
          "output_type": "stream",
          "name": "stdout",
          "text": [
            "+--------------------+------+\n",
            "|                Name|Medals|\n",
            "+--------------------+------+\n",
            "|Michael Fred Phel...|    28|\n",
            "|Larysa Semenivna ...|    18|\n",
            "|\"William Henry \"\"...|    16|\n",
            "|Nikolay Yefimovic...|    15|\n",
            "| Ole Einar Bjrndalen|    13|\n",
            "| Edoardo Mangiarotti|    13|\n",
            "|         Takashi Ono|    13|\n",
            "|Borys Anfiyanovyc...|    13|\n",
            "|Birgit Fischer-Sc...|    12|\n",
            "|          Sawao Kato|    12|\n",
            "+--------------------+------+\n",
            "\n"
          ]
        }
      ],
      "source": [
        "#Solve question here. Add a Markdown cell after this cell if you want to add some comment on you solution.\n",
        "\n",
        "\n",
        "spark.sql(\"\"\"SELECT FIRST(Name) Name, COUNT(*) as Medals FROM data\n",
        "                  WHERE Medal <> \"NA\"\n",
        "                  GROUP BY ID\n",
        "                  ORDER BY Medals DESC\n",
        "                  LIMIT 10\n",
        "          \"\"\").show()"
      ]
    },
    {
      "cell_type": "code",
      "source": [
        "spark.sql(\"\"\"SELECT n.name, CASE WHEN ISNULL(Gold) THEN 0 ELSE Gold END Gold,\n",
        "                        CASE WHEN ISNULL(Silver) THEN 0 ELSE Silver END Silver,\n",
        "                        CASE WHEN ISNULL(Bronze) THEN 0 ELSE Bronze END Bronze FROM\n",
        "                  (SELECT id,COUNT(*) Gold FROM data WHERE Medal = \"Gold\" GROUP BY id) g FULL OUTER JOIN\n",
        "                  (SELECT id,COUNT(*) Silver FROM data WHERE Medal = \"Silver\" GROUP BY id) s ON g.id = s.id FULL OUTER JOIN\n",
        "                  (SELECT id,COUNT(*) Bronze FROM data WHERE Medal = \"Bronze\" GROUP BY id) b ON g.id = b.id LEFT JOIN\n",
        "                  (SELECT id, FIRST(name) name FROM data GROUP BY id) n ON g.id = n.id\n",
        "                  ORDER BY Gold DESC, Silver DESC, Bronze DESC\n",
        "                  LIMIT 10\n",
        "          \"\"\").show()"
      ],
      "metadata": {
        "colab": {
          "base_uri": "https://localhost:8080/"
        },
        "id": "dvg9xZrxRPHL",
        "outputId": "2336de35-b294-44a5-e831-db7051bb05c7"
      },
      "id": "dvg9xZrxRPHL",
      "execution_count": 21,
      "outputs": [
        {
          "output_type": "stream",
          "name": "stdout",
          "text": [
            "+--------------------+----+------+------+\n",
            "|                name|Gold|Silver|Bronze|\n",
            "+--------------------+----+------+------+\n",
            "|Michael Fred Phel...|  23|     3|     2|\n",
            "|\"Raymond Clarence...|  10|     0|     0|\n",
            "|Larysa Semenivna ...|   9|     5|     4|\n",
            "|Paavo Johannes Nurmi|   9|     3|     0|\n",
            "|   Mark Andrew Spitz|   9|     1|     1|\n",
            "|\"Frederick Carlto...|   9|     1|     0|\n",
            "| Ole Einar Bjrndalen|   8|     4|     1|\n",
            "|Birgit Fischer-Sc...|   8|     4|     0|\n",
            "|          Sawao Kato|   8|     3|     1|\n",
            "|\"Jennifer Elisabe...|   8|     3|     1|\n",
            "+--------------------+----+------+------+\n",
            "\n"
          ]
        }
      ]
    },
    {
      "cell_type": "markdown",
      "id": "d1837cc4-6c30-4bb0-b1ba-34233c1f9f0b",
      "metadata": {
        "id": "d1837cc4-6c30-4bb0-b1ba-34233c1f9f0b"
      },
      "source": [
        "### 5.a) Reimplement question 1.d in Spark SQL.\n"
      ]
    },
    {
      "cell_type": "code",
      "execution_count": 36,
      "id": "5406a645-aed9-4b98-9497-cf86859c8542",
      "metadata": {
        "colab": {
          "base_uri": "https://localhost:8080/"
        },
        "id": "5406a645-aed9-4b98-9497-cf86859c8542",
        "outputId": "e2f23c8d-46cd-465c-dce1-013d70531891"
      },
      "outputs": [
        {
          "output_type": "stream",
          "name": "stdout",
          "text": [
            "+----+--------------------+------+\n",
            "|Year|                Name|Medals|\n",
            "+----+--------------------+------+\n",
            "|1952|Mariya Kindrativn...|     7|\n",
            "|1956|gnes Keleti-Srkny...|     6|\n",
            "|1956|Larysa Semenivna ...|     6|\n",
            "|1960|Borys Anfiyanovyc...|     7|\n",
            "|1964|Larysa Semenivna ...|     6|\n",
            "|1968|Mikhail Yakovlevi...|     7|\n",
            "|1972|   Mark Andrew Spitz|     7|\n",
            "|1976|Nikolay Yefimovic...|     7|\n",
            "|1980|Aleksandr Nikolay...|     8|\n",
            "|1984|             Li Ning|     6|\n",
            "|1988|\"Matthew Nicholas...|     7|\n",
            "|1992|Vitaly Venediktov...|     6|\n",
            "|1996|Aleksey Yuryevich...|     6|\n",
            "|2000|Aleksey Yuryevich...|     6|\n",
            "|2004|Michael Fred Phel...|     8|\n",
            "|2008|Michael Fred Phel...|     8|\n",
            "|2012|Michael Fred Phel...|     6|\n",
            "|2016|Michael Fred Phel...|     6|\n",
            "+----+--------------------+------+\n",
            "\n"
          ]
        }
      ],
      "source": [
        "#Solve question here. Add a Markdown cell after this cell if you want to add some comment on you solution.\n",
        "#for Summer Olympics, after 1950, who are the athletes that have won more medals in each edition?\n",
        "\n",
        "spark.sql(\"\"\"SELECT Year, Name, Medals FROM\n",
        "              (SELECT Year, Name, Medals, RANK(Medals) OVER\n",
        "                        (PARTITION BY year ORDER BY Medals DESC) rank FROM\n",
        "                  (SELECT id, year, FIRST(Name) name, count(*) Medals FROM data\n",
        "                          WHERE year > 1950 AND Season = \"Summer\" AND Medal <> \"NA\" GROUP BY id, year)\n",
        "              )\n",
        "              WHERE rank = 1\n",
        "              ORDER BY Year\n",
        "          \"\"\").show(100)"
      ]
    }
  ],
  "metadata": {
    "kernelspec": {
      "display_name": "Python 3",
      "language": "python",
      "name": "python3"
    },
    "language_info": {
      "codemirror_mode": {
        "name": "ipython",
        "version": 3
      },
      "file_extension": ".py",
      "mimetype": "text/x-python",
      "name": "python",
      "nbconvert_exporter": "python",
      "pygments_lexer": "ipython3",
      "version": "3.8.8"
    },
    "colab": {
      "provenance": []
    }
  },
  "nbformat": 4,
  "nbformat_minor": 5
}